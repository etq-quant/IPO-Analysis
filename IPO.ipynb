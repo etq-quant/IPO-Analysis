{
 "cells": [
  {
   "cell_type": "code",
   "execution_count": 22,
   "id": "a094f6c8-12c1-4f2d-8b0a-9cb1eabdec6d",
   "metadata": {
    "tags": []
   },
   "outputs": [],
   "source": [
    "import pandas as pd"
   ]
  },
  {
   "cell_type": "markdown",
   "id": "f9cba07c-459e-4171-a0dc-764b0539dad1",
   "metadata": {},
   "source": [
    "### Preprocess"
   ]
  },
  {
   "cell_type": "code",
   "execution_count": 23,
   "id": "50b40d2c-3c2e-42a1-a8c5-89b9ea839395",
   "metadata": {
    "tags": []
   },
   "outputs": [],
   "source": [
    "# df = pd.read_excel('IPO_stocks.xlsx')\n",
    "# df1 = pd.read_excel('IPO_stocks - akash.xlsx') #.dropna()\n",
    "# df2 = pd.read_excel('IPO_stocks - haikal.xlsx') #.dropna()\n",
    "# df2 = df2.loc[df2['Code'] != 'ORGABIO HOLDINGS BERHAD'].copy()\n",
    "\n",
    "# fdf = df.loc[:, \"Code\":\"20d_ret\"].set_index('Code').copy()\n",
    "# df1_ = df1[['Code', 'Oversubscription_Rate', 'Total_Applicants', 'Bumiputera_Applicants', 'Bumiputera_Oversubscription_Rate', 'Public_Applicants', 'Public_Oversubscription_Rate']].set_index('Code').copy()\n",
    "# df2_ = df2[['Code', 'Oversubscription_Rate', 'Total_Applicants', 'Bumiputera_Applicants', 'Bumiputera_Oversubscription_Rate', 'Public_Applicants', 'Public_Oversubscription_Rate']].set_index('Code').copy()\n",
    "\n",
    "# cols = ['Oversubscription_Rate', 'Total_Applicants', 'Bumiputera_Applicants', 'Bumiputera_Oversubscription_Rate', 'Public_Applicants', 'Public_Oversubscription_Rate']\n",
    "# for j in cols:\n",
    "#     fdf[j] = df1_[j]\n",
    "#     fdf[j] = fdf[j].fillna(df2_[j])\n",
    "# fdf.to_excel('IPO_2.xlsx')\n"
   ]
  },
  {
   "cell_type": "markdown",
   "id": "848940e9-c08f-49f7-b1f7-e11839cbddef",
   "metadata": {},
   "source": [
    "# READ PREPROCESSED DATA"
   ]
  },
  {
   "cell_type": "code",
   "execution_count": 24,
   "id": "4e9d7895-8a71-4251-9fe0-c3f8eb773374",
   "metadata": {
    "tags": []
   },
   "outputs": [],
   "source": [
    "sector_df = pd.read_excel(\"mk_sector.xlsx\")\n",
    "fdf = pd.read_excel(\"IPO_2.xlsx\")\n",
    "fdf['Code'] = fdf['Code'].apply(lambda x: str(x).zfill(4))\n",
    "sector_df['Code'] = sector_df['ID_ISIN'].apply(lambda x: str(x)[3:7])\n",
    "fdf = pd.merge(fdf, sector_df[['Code', 'EXCH_MKT_GRP', 'GICS_SECTOR_NAME']], left_on=\"Code\", right_on=\"Code\", how=\"left\")"
   ]
  },
  {
   "cell_type": "code",
   "execution_count": 34,
   "id": "fdc48e72-a4ed-49b8-8e86-118bd121429e",
   "metadata": {
    "tags": []
   },
   "outputs": [],
   "source": [
    "fdf['IPO_Price'] = fdf['Close'] - fdf['PriceChange1']\n",
    "fdf['Open_Ret'] = fdf['Open']/fdf['IPO_Price'] - 1\n",
    "fdf['Close_Open'] = fdf['Close'] - fdf['Open']"
   ]
  },
  {
   "cell_type": "code",
   "execution_count": 35,
   "id": "4d65fbf8-183c-4c81-b2ac-d9e2549dc399",
   "metadata": {
    "tags": []
   },
   "outputs": [
    {
     "data": {
      "text/plain": [
       "Index(['ID', 'NAME', 'cur_mkt_cap().value', 'security_typ().value',\n",
       "       'ID_SEDOL1', 'ID_ISIN', 'EXCH_MKT_GRP', 'FINANCIAL_STATUS_INDICATOR',\n",
       "       'IS_ISLAMIC', 'GICS_SECTOR_NAME', 'GICS_SUB_INDUSTRY_NAME',\n",
       "       'LAST_UPDATE_DT', 'Code'],\n",
       "      dtype='object')"
      ]
     },
     "execution_count": 35,
     "metadata": {},
     "output_type": "execute_result"
    }
   ],
   "source": [
    "sector_df.columns"
   ]
  },
  {
   "cell_type": "code",
   "execution_count": 36,
   "id": "86739366-d4b0-4cf2-bec5-9fa2830d9453",
   "metadata": {
    "tags": []
   },
   "outputs": [],
   "source": [
    "# fdf2['GICS_SECTOR_NAME'].unique()"
   ]
  },
  {
   "cell_type": "code",
   "execution_count": 78,
   "id": "3bc4fd95-03d3-4992-9376-6343094cb41c",
   "metadata": {
    "tags": []
   },
   "outputs": [],
   "source": [
    "cols = ['Code', 'Date', 'Stock', 'StockLongName', 'Open', 'Close',\n",
    "       'PriceChange1', 'PctChange1', 'Open_Ret', 'Close_Open', 'Volume', 'NumShares', '20d_ret', 'EXCH_MKT_GRP', 'GICS_SECTOR_NAME',\n",
    "       'Oversubscription_Rate', 'Total_Applicants']\n",
    "fdf.shape\n",
    "fdf2 = fdf[cols].sort_values(\"Date\").copy()\n",
    "# fdf['GICS_SECTOR_NAME'].unique()\n",
    "\n",
    "from sklearn.preprocessing import OneHotEncoder\n",
    "\n",
    "enc = OneHotEncoder(handle_unknown='ignore', drop='first')\n",
    "X = fdf2[['EXCH_MKT_GRP', 'GICS_SECTOR_NAME']]\n",
    "enc.fit(X)\n",
    "new_feats = enc.transform(X).toarray()\n",
    "\n",
    "xcols = ['Oversubscription_Rate', 'Total_Applicants']\n",
    "for j in range(new_feats.shape[1]):\n",
    "    fdf2[f\"C{j}\"] = new_feats[:, j].astype(int)\n",
    "    xcols += [f\"C{j}\"]\n",
    "u1 = fdf2[['Total_Applicants', 'Oversubscription_Rate']].isna().mean(axis=1) ==  0\n",
    "fdf3 = fdf2.loc[u1].copy()\n",
    "# fdf3"
   ]
  },
  {
   "cell_type": "code",
   "execution_count": 62,
   "id": "2d3754ff-6855-4d90-9d01-4ab1883bc907",
   "metadata": {
    "tags": []
   },
   "outputs": [],
   "source": [
    "# test_df = fdf2.iloc[:1].copy()\n",
    "# test_df['Oversubscription_Rate'] = 5.28\n",
    "# test_df['Total_Applicants'] = 2603\n",
    "# test_df['EXCH_MKT_GRP'] = 'MAIN'\n",
    "# test_df['GICS_SECTOR_NAME'] = 'Consumer Discretionary'\n",
    "\n",
    "# new_feats_test = enc.transform(test_df[['EXCH_MKT_GRP', 'GICS_SECTOR_NAME']]).toarray()\n",
    "# for j in range(new_feats_test.shape[1]):\n",
    "#     test_df[f\"C{j}\"] = new_feats_test[:, j].astype(int)\n",
    "# test_df\n"
   ]
  },
  {
   "cell_type": "code",
   "execution_count": 79,
   "id": "158cb1fc-716b-4106-85ba-8d19112bdc44",
   "metadata": {
    "tags": []
   },
   "outputs": [],
   "source": [
    "pd.set_option('display.max_columns', 50)\n",
    "# fdf3['20d_ret'].isna().sum()"
   ]
  },
  {
   "cell_type": "code",
   "execution_count": 106,
   "id": "b4f11bda-d820-495f-ac62-64192741abc3",
   "metadata": {
    "tags": []
   },
   "outputs": [
    {
     "name": "stdout",
     "output_type": "stream",
     "text": [
      "Training set size: 85\n",
      "Testing set size: 37\n",
      "Validation MAE: 0.2847932183513221\n"
     ]
    },
    {
     "data": {
      "text/html": [
       "<div>\n",
       "<style scoped>\n",
       "    .dataframe tbody tr th:only-of-type {\n",
       "        vertical-align: middle;\n",
       "    }\n",
       "\n",
       "    .dataframe tbody tr th {\n",
       "        vertical-align: top;\n",
       "    }\n",
       "\n",
       "    .dataframe thead th {\n",
       "        text-align: right;\n",
       "    }\n",
       "</style>\n",
       "<table border=\"1\" class=\"dataframe\">\n",
       "  <thead>\n",
       "    <tr style=\"text-align: right;\">\n",
       "      <th></th>\n",
       "      <th>Oversubscription_Rate</th>\n",
       "      <th>Total_Applicants</th>\n",
       "    </tr>\n",
       "  </thead>\n",
       "  <tbody>\n",
       "    <tr>\n",
       "      <th>43</th>\n",
       "      <td>5.28</td>\n",
       "      <td>2603</td>\n",
       "    </tr>\n",
       "  </tbody>\n",
       "</table>\n",
       "</div>"
      ],
      "text/plain": [
       "    Oversubscription_Rate  Total_Applicants\n",
       "43                   5.28              2603"
      ]
     },
     "metadata": {},
     "output_type": "display_data"
    },
    {
     "name": "stdout",
     "output_type": "stream",
     "text": [
      "[0.04155238] [1.00260217e-02 5.51664576e-06] -0.02574484487768551\n"
     ]
    }
   ],
   "source": [
    "from sklearn.linear_model import HuberRegressor, LinearRegression\n",
    "from sklearn.ensemble import RandomForestRegressor\n",
    "\n",
    "xcols = ['Oversubscription_Rate',\n",
    " 'Total_Applicants',\n",
    " 'C0',\n",
    " 'C1',\n",
    " 'C2',\n",
    " 'C3',\n",
    " 'C4',\n",
    " 'C5',\n",
    " 'C6',\n",
    " 'C7',\n",
    " 'C8',\n",
    " 'C9']\n",
    "         \n",
    "xcols = ['Oversubscription_Rate','Total_Applicants','C0']\n",
    "xcols = ['Oversubscription_Rate','Total_Applicants',]\n",
    "# xcols = ['Oversubscription_Rate',]\n",
    "# xcols = ['Total_Applicants',]\n",
    "model = HuberRegressor()\n",
    "# model = LinearRegression()\n",
    "# model = RandomForestRegressor()\n",
    "X= fdf3[xcols]\n",
    "# y= fdf2['PctChange1']\n",
    "# y = fdf3['20d_ret']\n",
    "y = fdf3['Open_Ret']\n",
    "# y = fdf2['Close_Open']\n",
    "\n",
    "import numpy as np\n",
    "from sklearn.model_selection import train_test_split\n",
    "from sklearn.metrics import mean_squared_error, mean_absolute_error\n",
    "X_train, X_test, y_train, y_test = train_test_split(X, y, test_size=0.3, random_state=12)\n",
    "print(\"Training set size:\", len(X_train))\n",
    "print(\"Testing set size:\", len(X_test))\n",
    "\n",
    "model.fit(X_train,y_train)\n",
    "y_pred_train = model.predict(X_train)\n",
    "\n",
    "# Make predictions on the validation set\n",
    "y_pred = model.predict(X_test)\n",
    "\n",
    "# Compute the mean squared error (MSE) on the validation set\n",
    "mse = mean_absolute_error(y_test, y_pred)\n",
    "\n",
    "# Print the validation error\n",
    "print(\"Validation MAE:\",mse)\n",
    "display(test_df[xcols])\n",
    "try:\n",
    "    print(model.predict(test_df[xcols]),model.coef_, model.intercept_)\n",
    "except:\n",
    "    print(model.predict(test_df[xcols]), model.feature_importances_)\n"
   ]
  },
  {
   "cell_type": "code",
   "execution_count": 155,
   "id": "11529d7e-16c9-4a35-bec7-0685b7b888b9",
   "metadata": {
    "tags": []
   },
   "outputs": [
    {
     "data": {
      "text/plain": [
       "[<matplotlib.lines.Line2D at 0x22d3d1140d0>]"
      ]
     },
     "execution_count": 155,
     "metadata": {},
     "output_type": "execute_result"
    },
    {
     "data": {
      "image/png": "[encoded data removed]",
      "text/plain": [
       "<Figure size 640x480 with 1 Axes>"
      ]
     },
     "metadata": {},
     "output_type": "display_data"
    }
   ],
   "source": [
    "import pandas as pd\n",
    "import statsmodels.api as sm\n",
    "import matplotlib.pyplot as plt\n",
    "\n",
    "df = pd.DataFrame({'year':['1990','1991','1992','1993','1994','1995','1996','1997','1998','1999','2000'],\n",
    "                   'count':[96,184,148,154,160,149,124,274,322,301,300]})\n",
    "df['year'] = df['year'].astype(float)\n",
    "X = sm.add_constant(df['year'].values)\n",
    "ols_model = sm.OLS(df['count'].values, X)\n",
    "est = ols_model.fit()\n",
    "out = est.conf_int(alpha=0.05, cols=None)\n",
    "\n",
    "fig, ax = plt.subplots()\n",
    "df.plot(x='year',y='count',linestyle='None',marker='s', ax=ax)\n",
    "y_pred = est.predict(X)\n",
    "x_pred = df.year.values\n",
    "ax.plot(x_pred,y_pred)\n",
    "\n",
    "pred = est.get_prediction(X).summary_frame()\n",
    "ax.plot(x_pred,pred['mean_ci_lower'],linestyle='--',color='blue')\n",
    "ax.plot(x_pred,pred['mean_ci_upper'],linestyle='--',color='blue')\n",
    "\n",
    "# Alternative way to plot\n",
    "def line(x,b=0,m=1):\n",
    "    return m*x+b\n",
    "\n",
    "ax.plot(x_pred,line(x_pred,est.params[0],est.params[1]),color='blue')"
   ]
  },
  {
   "cell_type": "code",
   "execution_count": 163,
   "id": "502fa3ff-169b-48a2-9f88-a5f5c83248b9",
   "metadata": {
    "tags": []
   },
   "outputs": [
    {
     "data": {
      "text/html": [
       "<div>\n",
       "<style scoped>\n",
       "    .dataframe tbody tr th:only-of-type {\n",
       "        vertical-align: middle;\n",
       "    }\n",
       "\n",
       "    .dataframe tbody tr th {\n",
       "        vertical-align: top;\n",
       "    }\n",
       "\n",
       "    .dataframe thead th {\n",
       "        text-align: right;\n",
       "    }\n",
       "</style>\n",
       "<table border=\"1\" class=\"dataframe\">\n",
       "  <thead>\n",
       "    <tr style=\"text-align: right;\">\n",
       "      <th></th>\n",
       "      <th>mean</th>\n",
       "      <th>mean_se</th>\n",
       "      <th>mean_ci_lower</th>\n",
       "      <th>mean_ci_upper</th>\n",
       "      <th>obs_ci_lower</th>\n",
       "      <th>obs_ci_upper</th>\n",
       "    </tr>\n",
       "  </thead>\n",
       "  <tbody>\n",
       "    <tr>\n",
       "      <th>0</th>\n",
       "      <td>100.454545</td>\n",
       "      <td>27.796691</td>\n",
       "      <td>37.574062</td>\n",
       "      <td>163.335028</td>\n",
       "      <td>-27.532451</td>\n",
       "      <td>228.441542</td>\n",
       "    </tr>\n",
       "    <tr>\n",
       "      <th>1</th>\n",
       "      <td>120.581818</td>\n",
       "      <td>23.957734</td>\n",
       "      <td>66.385658</td>\n",
       "      <td>174.777979</td>\n",
       "      <td>-3.369543</td>\n",
       "      <td>244.533180</td>\n",
       "    </tr>\n",
       "    <tr>\n",
       "      <th>2</th>\n",
       "      <td>140.709091</td>\n",
       "      <td>20.480279</td>\n",
       "      <td>94.379481</td>\n",
       "      <td>187.038701</td>\n",
       "      <td>19.989793</td>\n",
       "      <td>261.428389</td>\n",
       "    </tr>\n",
       "    <tr>\n",
       "      <th>3</th>\n",
       "      <td>160.836364</td>\n",
       "      <td>17.580171</td>\n",
       "      <td>121.067254</td>\n",
       "      <td>200.605473</td>\n",
       "      <td>42.479707</td>\n",
       "      <td>279.193020</td>\n",
       "    </tr>\n",
       "    <tr>\n",
       "      <th>4</th>\n",
       "      <td>180.963636</td>\n",
       "      <td>15.583156</td>\n",
       "      <td>145.712089</td>\n",
       "      <td>216.215184</td>\n",
       "      <td>64.047479</td>\n",
       "      <td>297.879793</td>\n",
       "    </tr>\n",
       "    <tr>\n",
       "      <th>5</th>\n",
       "      <td>201.090909</td>\n",
       "      <td>14.857956</td>\n",
       "      <td>167.479877</td>\n",
       "      <td>234.701941</td>\n",
       "      <td>84.658879</td>\n",
       "      <td>317.522939</td>\n",
       "    </tr>\n",
       "    <tr>\n",
       "      <th>6</th>\n",
       "      <td>221.218182</td>\n",
       "      <td>15.583156</td>\n",
       "      <td>185.966634</td>\n",
       "      <td>256.469730</td>\n",
       "      <td>104.302025</td>\n",
       "      <td>338.134339</td>\n",
       "    </tr>\n",
       "    <tr>\n",
       "      <th>7</th>\n",
       "      <td>241.345455</td>\n",
       "      <td>17.580171</td>\n",
       "      <td>201.576345</td>\n",
       "      <td>281.114564</td>\n",
       "      <td>122.988798</td>\n",
       "      <td>359.702111</td>\n",
       "    </tr>\n",
       "    <tr>\n",
       "      <th>8</th>\n",
       "      <td>261.472727</td>\n",
       "      <td>20.480279</td>\n",
       "      <td>215.143117</td>\n",
       "      <td>307.802338</td>\n",
       "      <td>140.753429</td>\n",
       "      <td>382.192025</td>\n",
       "    </tr>\n",
       "    <tr>\n",
       "      <th>9</th>\n",
       "      <td>281.600000</td>\n",
       "      <td>23.957734</td>\n",
       "      <td>227.403839</td>\n",
       "      <td>335.796161</td>\n",
       "      <td>157.648639</td>\n",
       "      <td>405.551361</td>\n",
       "    </tr>\n",
       "    <tr>\n",
       "      <th>10</th>\n",
       "      <td>301.727273</td>\n",
       "      <td>27.796691</td>\n",
       "      <td>238.846790</td>\n",
       "      <td>364.607756</td>\n",
       "      <td>173.740276</td>\n",
       "      <td>429.714269</td>\n",
       "    </tr>\n",
       "  </tbody>\n",
       "</table>\n",
       "</div>"
      ],
      "text/plain": [
       "          mean    mean_se  mean_ci_lower  mean_ci_upper  obs_ci_lower  \\\n",
       "0   100.454545  27.796691      37.574062     163.335028    -27.532451   \n",
       "1   120.581818  23.957734      66.385658     174.777979     -3.369543   \n",
       "2   140.709091  20.480279      94.379481     187.038701     19.989793   \n",
       "3   160.836364  17.580171     121.067254     200.605473     42.479707   \n",
       "4   180.963636  15.583156     145.712089     216.215184     64.047479   \n",
       "5   201.090909  14.857956     167.479877     234.701941     84.658879   \n",
       "6   221.218182  15.583156     185.966634     256.469730    104.302025   \n",
       "7   241.345455  17.580171     201.576345     281.114564    122.988798   \n",
       "8   261.472727  20.480279     215.143117     307.802338    140.753429   \n",
       "9   281.600000  23.957734     227.403839     335.796161    157.648639   \n",
       "10  301.727273  27.796691     238.846790     364.607756    173.740276   \n",
       "\n",
       "    obs_ci_upper  \n",
       "0     228.441542  \n",
       "1     244.533180  \n",
       "2     261.428389  \n",
       "3     279.193020  \n",
       "4     297.879793  \n",
       "5     317.522939  \n",
       "6     338.134339  \n",
       "7     359.702111  \n",
       "8     382.192025  \n",
       "9     405.551361  \n",
       "10    429.714269  "
      ]
     },
     "execution_count": 163,
     "metadata": {},
     "output_type": "execute_result"
    }
   ],
   "source": [
    "pred"
   ]
  },
  {
   "cell_type": "code",
   "execution_count": null,
   "id": "c0fc826c-29e2-4011-a625-e19a204cba6a",
   "metadata": {},
   "outputs": [],
   "source": []
  },
  {
   "cell_type": "code",
   "execution_count": null,
   "id": "b718c7bb-6d8f-4953-a0f3-60dcf2a523cf",
   "metadata": {},
   "outputs": [],
   "source": []
  },
  {
   "cell_type": "code",
   "execution_count": null,
   "id": "a9256a3f-e129-4411-b078-738835a11351",
   "metadata": {},
   "outputs": [],
   "source": []
  },
  {
   "cell_type": "code",
   "execution_count": null,
   "id": "83db3b80-1d34-4f51-9ee1-9e5a8ba6164b",
   "metadata": {},
   "outputs": [],
   "source": [
    "stdev = np.sqrt(sum((classifier.predict(X_train) - y_train)**2) / (len(y_train) - 2))\n",
    "\n",
    "\n",
    "prediction = (y_pred - 1.96*stdev, y_pred + 1.96*stdev)"
   ]
  },
  {
   "cell_type": "code",
   "execution_count": 154,
   "id": "171759e3-1534-4b02-9732-173b3c2ef2fa",
   "metadata": {
    "tags": []
   },
   "outputs": [
    {
     "data": {
      "text/plain": [
       "1.0605719726570444"
      ]
     },
     "execution_count": 154,
     "metadata": {},
     "output_type": "execute_result"
    }
   ],
   "source": [
    "from scipy import stats\n",
    "import numpy as np\n",
    "x = np.random.random(10)\n",
    "y = np.random.random(10)\n",
    "slope, intercept, r_value, p_value, std_err = stats.linregress(x,y)\n",
    "\n",
    "confidence_interval = 2.58*std_err\n",
    "confidence_interval"
   ]
  },
  {
   "cell_type": "code",
   "execution_count": 141,
   "id": "6091d022-712c-4767-bd1e-1a2327b49392",
   "metadata": {
    "tags": []
   },
   "outputs": [
    {
     "data": {
      "text/plain": [
       "((122, 2), (122,))"
      ]
     },
     "execution_count": 141,
     "metadata": {},
     "output_type": "execute_result"
    }
   ],
   "source": [
    "x1.shape, y1.shape"
   ]
  },
  {
   "cell_type": "code",
   "execution_count": 169,
   "id": "58e9ca7a-0c2d-4161-97dc-1f0efacaf9af",
   "metadata": {
    "tags": []
   },
   "outputs": [
    {
     "data": {
      "image/png": "[encoded data removed]",
      "text/plain": [
       "<Figure size 640x480 with 1 Axes>"
      ]
     },
     "metadata": {},
     "output_type": "display_data"
    }
   ],
   "source": [
    "import pandas as pd\n",
    "import statsmodels.api as sm\n",
    "import matplotlib.pyplot as plt\n",
    "\n",
    "df = pd.DataFrame({'year':['1990','1991','1992','1993','1994','1995','1996','1997','1998','1999','2000'],\n",
    "                   'count':[96,184,148,154,160,149,124,274,322,301,300]})\n",
    "df['year'] = df['year'].astype(float)\n",
    "# x1 = df['year'].values\n",
    "# y1 = df['count'].values\n",
    "\n",
    "x1 = fdf3[xcols].values\n",
    "y1 = fdf3['Open_Ret'].values\n",
    "y1 = fdf3['PctChange1'].values\n",
    "\n",
    "X = sm.add_constant(x1)\n",
    "ols_model = sm.OLS(y1, X)\n",
    "est = ols_model.fit()\n",
    "out = est.conf_int(alpha=0.05, cols=None)\n",
    "\n",
    "fig, ax = plt.subplots()\n",
    "# df.plot(x='year',y='count',linestyle='None',marker='s', ax=ax)\n",
    "y_pred = est.predict(X)\n",
    "x_pred = x1\n",
    "# ax.plot(x_pred,y_pred)\n",
    "\n",
    "pred = est.get_prediction(X).summary_frame()\n",
    "# ax.plot(x_pred,pred['mean_ci_lower'],linestyle='--',color='blue')\n",
    "# ax.plot(x_pred,pred['mean_ci_upper'],linestyle='--',color='blue')\n",
    "\n",
    "# Alternative way to plot\n",
    "def line(x,b=0,m=1):\n",
    "    return m*x+b\n",
    "\n",
    "# ax.plot(x_pred,line(x_pred,est.params[0],est.params[1]),color='blue')\n"
   ]
  },
  {
   "cell_type": "code",
   "execution_count": 170,
   "id": "e3ab4e95-9808-4b4d-b58e-25280a5bd06c",
   "metadata": {
    "tags": []
   },
   "outputs": [
    {
     "data": {
      "text/html": [
       "<div>\n",
       "<style scoped>\n",
       "    .dataframe tbody tr th:only-of-type {\n",
       "        vertical-align: middle;\n",
       "    }\n",
       "\n",
       "    .dataframe tbody tr th {\n",
       "        vertical-align: top;\n",
       "    }\n",
       "\n",
       "    .dataframe thead th {\n",
       "        text-align: right;\n",
       "    }\n",
       "</style>\n",
       "<table border=\"1\" class=\"dataframe\">\n",
       "  <thead>\n",
       "    <tr style=\"text-align: right;\">\n",
       "      <th></th>\n",
       "      <th>mean</th>\n",
       "      <th>mean_se</th>\n",
       "      <th>mean_ci_lower</th>\n",
       "      <th>mean_ci_upper</th>\n",
       "      <th>obs_ci_lower</th>\n",
       "      <th>obs_ci_upper</th>\n",
       "      <th>actual</th>\n",
       "    </tr>\n",
       "  </thead>\n",
       "  <tbody>\n",
       "    <tr>\n",
       "      <th>0</th>\n",
       "      <td>0.482915</td>\n",
       "      <td>0.050716</td>\n",
       "      <td>0.382492</td>\n",
       "      <td>0.583338</td>\n",
       "      <td>-0.585296</td>\n",
       "      <td>1.551125</td>\n",
       "      <td>1.133333</td>\n",
       "    </tr>\n",
       "    <tr>\n",
       "      <th>1</th>\n",
       "      <td>0.164718</td>\n",
       "      <td>0.065546</td>\n",
       "      <td>0.034930</td>\n",
       "      <td>0.294506</td>\n",
       "      <td>-0.906653</td>\n",
       "      <td>1.236088</td>\n",
       "      <td>-0.250000</td>\n",
       "    </tr>\n",
       "    <tr>\n",
       "      <th>2</th>\n",
       "      <td>0.153001</td>\n",
       "      <td>0.058647</td>\n",
       "      <td>0.036874</td>\n",
       "      <td>0.269128</td>\n",
       "      <td>-0.916800</td>\n",
       "      <td>1.222802</td>\n",
       "      <td>0.261538</td>\n",
       "    </tr>\n",
       "    <tr>\n",
       "      <th>3</th>\n",
       "      <td>0.127502</td>\n",
       "      <td>0.060401</td>\n",
       "      <td>0.007901</td>\n",
       "      <td>0.247102</td>\n",
       "      <td>-0.942682</td>\n",
       "      <td>1.197685</td>\n",
       "      <td>0.063636</td>\n",
       "    </tr>\n",
       "    <tr>\n",
       "      <th>4</th>\n",
       "      <td>0.186235</td>\n",
       "      <td>0.055918</td>\n",
       "      <td>0.075512</td>\n",
       "      <td>0.296959</td>\n",
       "      <td>-0.882993</td>\n",
       "      <td>1.255464</td>\n",
       "      <td>0.204225</td>\n",
       "    </tr>\n",
       "    <tr>\n",
       "      <th>...</th>\n",
       "      <td>...</td>\n",
       "      <td>...</td>\n",
       "      <td>...</td>\n",
       "      <td>...</td>\n",
       "      <td>...</td>\n",
       "      <td>...</td>\n",
       "      <td>...</td>\n",
       "    </tr>\n",
       "    <tr>\n",
       "      <th>117</th>\n",
       "      <td>1.237064</td>\n",
       "      <td>0.145045</td>\n",
       "      <td>0.949860</td>\n",
       "      <td>1.524269</td>\n",
       "      <td>0.135486</td>\n",
       "      <td>2.338643</td>\n",
       "      <td>0.355263</td>\n",
       "    </tr>\n",
       "    <tr>\n",
       "      <th>118</th>\n",
       "      <td>0.248962</td>\n",
       "      <td>0.059848</td>\n",
       "      <td>0.130457</td>\n",
       "      <td>0.367466</td>\n",
       "      <td>-0.821100</td>\n",
       "      <td>1.319023</td>\n",
       "      <td>-0.186047</td>\n",
       "    </tr>\n",
       "    <tr>\n",
       "      <th>119</th>\n",
       "      <td>1.484084</td>\n",
       "      <td>0.163321</td>\n",
       "      <td>1.160693</td>\n",
       "      <td>1.807476</td>\n",
       "      <td>0.372522</td>\n",
       "      <td>2.595647</td>\n",
       "      <td>2.041667</td>\n",
       "    </tr>\n",
       "    <tr>\n",
       "      <th>120</th>\n",
       "      <td>0.037441</td>\n",
       "      <td>0.069643</td>\n",
       "      <td>-0.100460</td>\n",
       "      <td>0.175341</td>\n",
       "      <td>-1.034942</td>\n",
       "      <td>1.109824</td>\n",
       "      <td>-0.075000</td>\n",
       "    </tr>\n",
       "    <tr>\n",
       "      <th>121</th>\n",
       "      <td>0.061664</td>\n",
       "      <td>0.070174</td>\n",
       "      <td>-0.077287</td>\n",
       "      <td>0.200615</td>\n",
       "      <td>-1.010855</td>\n",
       "      <td>1.134183</td>\n",
       "      <td>-0.037037</td>\n",
       "    </tr>\n",
       "  </tbody>\n",
       "</table>\n",
       "<p>122 rows × 7 columns</p>\n",
       "</div>"
      ],
      "text/plain": [
       "         mean   mean_se  mean_ci_lower  mean_ci_upper  obs_ci_lower  \\\n",
       "0    0.482915  0.050716       0.382492       0.583338     -0.585296   \n",
       "1    0.164718  0.065546       0.034930       0.294506     -0.906653   \n",
       "2    0.153001  0.058647       0.036874       0.269128     -0.916800   \n",
       "3    0.127502  0.060401       0.007901       0.247102     -0.942682   \n",
       "4    0.186235  0.055918       0.075512       0.296959     -0.882993   \n",
       "..        ...       ...            ...            ...           ...   \n",
       "117  1.237064  0.145045       0.949860       1.524269      0.135486   \n",
       "118  0.248962  0.059848       0.130457       0.367466     -0.821100   \n",
       "119  1.484084  0.163321       1.160693       1.807476      0.372522   \n",
       "120  0.037441  0.069643      -0.100460       0.175341     -1.034942   \n",
       "121  0.061664  0.070174      -0.077287       0.200615     -1.010855   \n",
       "\n",
       "     obs_ci_upper    actual  \n",
       "0        1.551125  1.133333  \n",
       "1        1.236088 -0.250000  \n",
       "2        1.222802  0.261538  \n",
       "3        1.197685  0.063636  \n",
       "4        1.255464  0.204225  \n",
       "..            ...       ...  \n",
       "117      2.338643  0.355263  \n",
       "118      1.319023 -0.186047  \n",
       "119      2.595647  2.041667  \n",
       "120      1.109824 -0.075000  \n",
       "121      1.134183 -0.037037  \n",
       "\n",
       "[122 rows x 7 columns]"
      ]
     },
     "execution_count": 170,
     "metadata": {},
     "output_type": "execute_result"
    }
   ],
   "source": [
    "pred['actual'] = y1\n",
    "pred"
   ]
  },
  {
   "cell_type": "code",
   "execution_count": 171,
   "id": "02160caa-7890-42c9-9082-fe2b17108002",
   "metadata": {
    "tags": []
   },
   "outputs": [
    {
     "data": {
      "text/html": [
       "<div>\n",
       "<style scoped>\n",
       "    .dataframe tbody tr th:only-of-type {\n",
       "        vertical-align: middle;\n",
       "    }\n",
       "\n",
       "    .dataframe tbody tr th {\n",
       "        vertical-align: top;\n",
       "    }\n",
       "\n",
       "    .dataframe thead th {\n",
       "        text-align: right;\n",
       "    }\n",
       "</style>\n",
       "<table border=\"1\" class=\"dataframe\">\n",
       "  <thead>\n",
       "    <tr style=\"text-align: right;\">\n",
       "      <th></th>\n",
       "      <th>mean</th>\n",
       "      <th>mean_se</th>\n",
       "      <th>mean_ci_lower</th>\n",
       "      <th>mean_ci_upper</th>\n",
       "      <th>obs_ci_lower</th>\n",
       "      <th>obs_ci_upper</th>\n",
       "      <th>actual</th>\n",
       "    </tr>\n",
       "  </thead>\n",
       "  <tbody>\n",
       "    <tr>\n",
       "      <th>0</th>\n",
       "      <td>0.482915</td>\n",
       "      <td>0.050716</td>\n",
       "      <td>0.382492</td>\n",
       "      <td>0.583338</td>\n",
       "      <td>-0.585296</td>\n",
       "      <td>1.551125</td>\n",
       "      <td>1.133333</td>\n",
       "    </tr>\n",
       "    <tr>\n",
       "      <th>1</th>\n",
       "      <td>0.164718</td>\n",
       "      <td>0.065546</td>\n",
       "      <td>0.034930</td>\n",
       "      <td>0.294506</td>\n",
       "      <td>-0.906653</td>\n",
       "      <td>1.236088</td>\n",
       "      <td>-0.250000</td>\n",
       "    </tr>\n",
       "    <tr>\n",
       "      <th>2</th>\n",
       "      <td>0.153001</td>\n",
       "      <td>0.058647</td>\n",
       "      <td>0.036874</td>\n",
       "      <td>0.269128</td>\n",
       "      <td>-0.916800</td>\n",
       "      <td>1.222802</td>\n",
       "      <td>0.261538</td>\n",
       "    </tr>\n",
       "    <tr>\n",
       "      <th>3</th>\n",
       "      <td>0.127502</td>\n",
       "      <td>0.060401</td>\n",
       "      <td>0.007901</td>\n",
       "      <td>0.247102</td>\n",
       "      <td>-0.942682</td>\n",
       "      <td>1.197685</td>\n",
       "      <td>0.063636</td>\n",
       "    </tr>\n",
       "    <tr>\n",
       "      <th>4</th>\n",
       "      <td>0.186235</td>\n",
       "      <td>0.055918</td>\n",
       "      <td>0.075512</td>\n",
       "      <td>0.296959</td>\n",
       "      <td>-0.882993</td>\n",
       "      <td>1.255464</td>\n",
       "      <td>0.204225</td>\n",
       "    </tr>\n",
       "    <tr>\n",
       "      <th>...</th>\n",
       "      <td>...</td>\n",
       "      <td>...</td>\n",
       "      <td>...</td>\n",
       "      <td>...</td>\n",
       "      <td>...</td>\n",
       "      <td>...</td>\n",
       "      <td>...</td>\n",
       "    </tr>\n",
       "    <tr>\n",
       "      <th>117</th>\n",
       "      <td>1.237064</td>\n",
       "      <td>0.145045</td>\n",
       "      <td>0.949860</td>\n",
       "      <td>1.524269</td>\n",
       "      <td>0.135486</td>\n",
       "      <td>2.338643</td>\n",
       "      <td>0.355263</td>\n",
       "    </tr>\n",
       "    <tr>\n",
       "      <th>118</th>\n",
       "      <td>0.248962</td>\n",
       "      <td>0.059848</td>\n",
       "      <td>0.130457</td>\n",
       "      <td>0.367466</td>\n",
       "      <td>-0.821100</td>\n",
       "      <td>1.319023</td>\n",
       "      <td>-0.186047</td>\n",
       "    </tr>\n",
       "    <tr>\n",
       "      <th>119</th>\n",
       "      <td>1.484084</td>\n",
       "      <td>0.163321</td>\n",
       "      <td>1.160693</td>\n",
       "      <td>1.807476</td>\n",
       "      <td>0.372522</td>\n",
       "      <td>2.595647</td>\n",
       "      <td>2.041667</td>\n",
       "    </tr>\n",
       "    <tr>\n",
       "      <th>120</th>\n",
       "      <td>0.037441</td>\n",
       "      <td>0.069643</td>\n",
       "      <td>-0.100460</td>\n",
       "      <td>0.175341</td>\n",
       "      <td>-1.034942</td>\n",
       "      <td>1.109824</td>\n",
       "      <td>-0.075000</td>\n",
       "    </tr>\n",
       "    <tr>\n",
       "      <th>121</th>\n",
       "      <td>0.061664</td>\n",
       "      <td>0.070174</td>\n",
       "      <td>-0.077287</td>\n",
       "      <td>0.200615</td>\n",
       "      <td>-1.010855</td>\n",
       "      <td>1.134183</td>\n",
       "      <td>-0.037037</td>\n",
       "    </tr>\n",
       "  </tbody>\n",
       "</table>\n",
       "<p>122 rows × 7 columns</p>\n",
       "</div>"
      ],
      "text/plain": [
       "         mean   mean_se  mean_ci_lower  mean_ci_upper  obs_ci_lower  \\\n",
       "0    0.482915  0.050716       0.382492       0.583338     -0.585296   \n",
       "1    0.164718  0.065546       0.034930       0.294506     -0.906653   \n",
       "2    0.153001  0.058647       0.036874       0.269128     -0.916800   \n",
       "3    0.127502  0.060401       0.007901       0.247102     -0.942682   \n",
       "4    0.186235  0.055918       0.075512       0.296959     -0.882993   \n",
       "..        ...       ...            ...            ...           ...   \n",
       "117  1.237064  0.145045       0.949860       1.524269      0.135486   \n",
       "118  0.248962  0.059848       0.130457       0.367466     -0.821100   \n",
       "119  1.484084  0.163321       1.160693       1.807476      0.372522   \n",
       "120  0.037441  0.069643      -0.100460       0.175341     -1.034942   \n",
       "121  0.061664  0.070174      -0.077287       0.200615     -1.010855   \n",
       "\n",
       "     obs_ci_upper    actual  \n",
       "0        1.551125  1.133333  \n",
       "1        1.236088 -0.250000  \n",
       "2        1.222802  0.261538  \n",
       "3        1.197685  0.063636  \n",
       "4        1.255464  0.204225  \n",
       "..            ...       ...  \n",
       "117      2.338643  0.355263  \n",
       "118      1.319023 -0.186047  \n",
       "119      2.595647  2.041667  \n",
       "120      1.109824 -0.075000  \n",
       "121      1.134183 -0.037037  \n",
       "\n",
       "[122 rows x 7 columns]"
      ]
     },
     "execution_count": 171,
     "metadata": {},
     "output_type": "execute_result"
    }
   ],
   "source": [
    "pred"
   ]
  },
  {
   "cell_type": "code",
   "execution_count": 134,
   "id": "0645373d-8d3e-416c-9b1b-9372bfa868a8",
   "metadata": {
    "tags": []
   },
   "outputs": [
    {
     "data": {
      "text/html": [
       "<div>\n",
       "<style scoped>\n",
       "    .dataframe tbody tr th:only-of-type {\n",
       "        vertical-align: middle;\n",
       "    }\n",
       "\n",
       "    .dataframe tbody tr th {\n",
       "        vertical-align: top;\n",
       "    }\n",
       "\n",
       "    .dataframe thead th {\n",
       "        text-align: right;\n",
       "    }\n",
       "</style>\n",
       "<table border=\"1\" class=\"dataframe\">\n",
       "  <thead>\n",
       "    <tr style=\"text-align: right;\">\n",
       "      <th></th>\n",
       "      <th>mean</th>\n",
       "      <th>mean_se</th>\n",
       "      <th>mean_ci_lower</th>\n",
       "      <th>mean_ci_upper</th>\n",
       "      <th>obs_ci_lower</th>\n",
       "      <th>obs_ci_upper</th>\n",
       "    </tr>\n",
       "  </thead>\n",
       "  <tbody>\n",
       "    <tr>\n",
       "      <th>0</th>\n",
       "      <td>100.454545</td>\n",
       "      <td>27.796691</td>\n",
       "      <td>37.574062</td>\n",
       "      <td>163.335028</td>\n",
       "      <td>-27.532451</td>\n",
       "      <td>228.441542</td>\n",
       "    </tr>\n",
       "    <tr>\n",
       "      <th>1</th>\n",
       "      <td>120.581818</td>\n",
       "      <td>23.957734</td>\n",
       "      <td>66.385658</td>\n",
       "      <td>174.777979</td>\n",
       "      <td>-3.369543</td>\n",
       "      <td>244.533180</td>\n",
       "    </tr>\n",
       "    <tr>\n",
       "      <th>2</th>\n",
       "      <td>140.709091</td>\n",
       "      <td>20.480279</td>\n",
       "      <td>94.379481</td>\n",
       "      <td>187.038701</td>\n",
       "      <td>19.989793</td>\n",
       "      <td>261.428389</td>\n",
       "    </tr>\n",
       "    <tr>\n",
       "      <th>3</th>\n",
       "      <td>160.836364</td>\n",
       "      <td>17.580171</td>\n",
       "      <td>121.067254</td>\n",
       "      <td>200.605473</td>\n",
       "      <td>42.479707</td>\n",
       "      <td>279.193020</td>\n",
       "    </tr>\n",
       "    <tr>\n",
       "      <th>4</th>\n",
       "      <td>180.963636</td>\n",
       "      <td>15.583156</td>\n",
       "      <td>145.712089</td>\n",
       "      <td>216.215184</td>\n",
       "      <td>64.047479</td>\n",
       "      <td>297.879793</td>\n",
       "    </tr>\n",
       "    <tr>\n",
       "      <th>5</th>\n",
       "      <td>201.090909</td>\n",
       "      <td>14.857956</td>\n",
       "      <td>167.479877</td>\n",
       "      <td>234.701941</td>\n",
       "      <td>84.658879</td>\n",
       "      <td>317.522939</td>\n",
       "    </tr>\n",
       "    <tr>\n",
       "      <th>6</th>\n",
       "      <td>221.218182</td>\n",
       "      <td>15.583156</td>\n",
       "      <td>185.966634</td>\n",
       "      <td>256.469730</td>\n",
       "      <td>104.302025</td>\n",
       "      <td>338.134339</td>\n",
       "    </tr>\n",
       "    <tr>\n",
       "      <th>7</th>\n",
       "      <td>241.345455</td>\n",
       "      <td>17.580171</td>\n",
       "      <td>201.576345</td>\n",
       "      <td>281.114564</td>\n",
       "      <td>122.988798</td>\n",
       "      <td>359.702111</td>\n",
       "    </tr>\n",
       "    <tr>\n",
       "      <th>8</th>\n",
       "      <td>261.472727</td>\n",
       "      <td>20.480279</td>\n",
       "      <td>215.143117</td>\n",
       "      <td>307.802338</td>\n",
       "      <td>140.753429</td>\n",
       "      <td>382.192025</td>\n",
       "    </tr>\n",
       "    <tr>\n",
       "      <th>9</th>\n",
       "      <td>281.600000</td>\n",
       "      <td>23.957734</td>\n",
       "      <td>227.403839</td>\n",
       "      <td>335.796161</td>\n",
       "      <td>157.648639</td>\n",
       "      <td>405.551361</td>\n",
       "    </tr>\n",
       "    <tr>\n",
       "      <th>10</th>\n",
       "      <td>301.727273</td>\n",
       "      <td>27.796691</td>\n",
       "      <td>238.846790</td>\n",
       "      <td>364.607756</td>\n",
       "      <td>173.740276</td>\n",
       "      <td>429.714269</td>\n",
       "    </tr>\n",
       "  </tbody>\n",
       "</table>\n",
       "</div>"
      ],
      "text/plain": [
       "          mean    mean_se  mean_ci_lower  mean_ci_upper  obs_ci_lower  \\\n",
       "0   100.454545  27.796691      37.574062     163.335028    -27.532451   \n",
       "1   120.581818  23.957734      66.385658     174.777979     -3.369543   \n",
       "2   140.709091  20.480279      94.379481     187.038701     19.989793   \n",
       "3   160.836364  17.580171     121.067254     200.605473     42.479707   \n",
       "4   180.963636  15.583156     145.712089     216.215184     64.047479   \n",
       "5   201.090909  14.857956     167.479877     234.701941     84.658879   \n",
       "6   221.218182  15.583156     185.966634     256.469730    104.302025   \n",
       "7   241.345455  17.580171     201.576345     281.114564    122.988798   \n",
       "8   261.472727  20.480279     215.143117     307.802338    140.753429   \n",
       "9   281.600000  23.957734     227.403839     335.796161    157.648639   \n",
       "10  301.727273  27.796691     238.846790     364.607756    173.740276   \n",
       "\n",
       "    obs_ci_upper  \n",
       "0     228.441542  \n",
       "1     244.533180  \n",
       "2     261.428389  \n",
       "3     279.193020  \n",
       "4     297.879793  \n",
       "5     317.522939  \n",
       "6     338.134339  \n",
       "7     359.702111  \n",
       "8     382.192025  \n",
       "9     405.551361  \n",
       "10    429.714269  "
      ]
     },
     "execution_count": 134,
     "metadata": {},
     "output_type": "execute_result"
    }
   ],
   "source": [
    "est.get_prediction(X).summary_frame()"
   ]
  },
  {
   "cell_type": "code",
   "execution_count": 130,
   "id": "90e9b8b9-8c22-422f-a9e7-63939e4a6058",
   "metadata": {
    "tags": []
   },
   "outputs": [
    {
     "data": {
      "text/plain": [
       "-39952.81818181659"
      ]
     },
     "execution_count": 130,
     "metadata": {},
     "output_type": "execute_result"
    }
   ],
   "source": [
    "est.params[0]"
   ]
  },
  {
   "cell_type": "code",
   "execution_count": 125,
   "id": "6c03c209-4470-49c0-bc54-a6a542ae92fb",
   "metadata": {
    "tags": []
   },
   "outputs": [
    {
     "data": {
      "text/plain": [
       "36     0.161765\n",
       "75     0.500000\n",
       "22     0.300000\n",
       "107    0.035714\n",
       "78     0.400000\n",
       "         ...   \n",
       "92     0.246154\n",
       "125    0.577778\n",
       "9      0.081250\n",
       "20     0.289474\n",
       "117    0.036765\n",
       "Name: Open_Ret, Length: 85, dtype: float64"
      ]
     },
     "execution_count": 125,
     "metadata": {},
     "output_type": "execute_result"
    }
   ],
   "source": [
    "y_train"
   ]
  },
  {
   "cell_type": "code",
   "execution_count": 118,
   "id": "b2b57b80-d9d6-49ca-8ecb-7dccd3297931",
   "metadata": {
    "tags": []
   },
   "outputs": [],
   "source": [
    "# y"
   ]
  },
  {
   "cell_type": "code",
   "execution_count": 116,
   "id": "6e07e7ce-2021-42bd-873a-ade007f579b4",
   "metadata": {
    "tags": []
   },
   "outputs": [
    {
     "data": {
      "text/plain": [
       "array([[ 0.34306309,  1.82685049],\n",
       "       [-0.14943892,  0.53633099],\n",
       "       [ 9.95724053, 10.02359867]])"
      ]
     },
     "execution_count": 116,
     "metadata": {},
     "output_type": "execute_result"
    }
   ],
   "source": [
    "res.conf_int(0.01)   # 99% confidence interval\n"
   ]
  },
  {
   "cell_type": "code",
   "execution_count": 114,
   "id": "29040ecc-5c9f-41ea-a654-bb3be15d1a7c",
   "metadata": {
    "tags": []
   },
   "outputs": [
    {
     "data": {
      "text/plain": [
       "<statsmodels.regression.linear_model.RegressionResultsWrapper at 0x22d35672080>"
      ]
     },
     "execution_count": 114,
     "metadata": {},
     "output_type": "execute_result"
    }
   ],
   "source": [
    "res.conf_int("
   ]
  },
  {
   "cell_type": "code",
   "execution_count": 112,
   "id": "e0919b6c-92e4-4d5b-a628-2efbe0f7facd",
   "metadata": {
    "tags": []
   },
   "outputs": [],
   "source": [
    "# !pip install statsmodels"
   ]
  },
  {
   "cell_type": "code",
   "execution_count": 107,
   "id": "ad41ec46-940b-401d-84cb-9190074a73ee",
   "metadata": {
    "tags": []
   },
   "outputs": [
    {
     "data": {
      "text/plain": [
       "<matplotlib.collections.PathCollection at 0x22d3621b280>"
      ]
     },
     "execution_count": 107,
     "metadata": {},
     "output_type": "execute_result"
    },
    {
     "data": {
      "image/png": "[encoded data removed]",
      "text/plain": [
       "<Figure size 640x480 with 1 Axes>"
      ]
     },
     "metadata": {},
     "output_type": "display_data"
    }
   ],
   "source": [
    "import matplotlib.pyplot as plt\n",
    "plt.scatter(y_pred_train, y_train)"
   ]
  },
  {
   "cell_type": "code",
   "execution_count": 108,
   "id": "55b90e2b-7179-4eb6-a85d-bc383a2fec82",
   "metadata": {
    "tags": []
   },
   "outputs": [
    {
     "data": {
      "text/plain": [
       "(-0.8672259635514201, 0.431869337675425)"
      ]
     },
     "execution_count": 108,
     "metadata": {},
     "output_type": "execute_result"
    }
   ],
   "source": [
    "(y_pred_train-y_train).quantile(0.05),(y_pred_train-y_train).quantile(0.95)\n"
   ]
  },
  {
   "cell_type": "code",
   "execution_count": 17,
   "id": "7b5ee1ef-0d29-4264-b69a-a84e4e067354",
   "metadata": {
    "tags": []
   },
   "outputs": [],
   "source": [
    "# from sklearn.linear_model import HuberRegressor, LinearRegression, LogisticRegression\n",
    "# from sklearn.ensemble import RandomForestRegressor, RandomForestClassifier\n",
    "\n",
    "# xcols = ['Oversubscription_Rate',\n",
    "#  'Total_Applicants',\n",
    "#  'C0',\n",
    "#  'C1',\n",
    "#  'C2',\n",
    "#  'C3',\n",
    "#  'C4',\n",
    "#  'C5',\n",
    "#  'C6',\n",
    "#  'C7',\n",
    "#  'C8',\n",
    "#  'C9']\n",
    "         \n",
    "# xcols = ['Oversubscription_Rate','Total_Applicants','C0', 'Open_Ret']\n",
    "# model = HuberRegressor()\n",
    "# # model = LinearRegression()\n",
    "# model = RandomForestRegressor()\n",
    "# model = LogisticRegression()\n",
    "# model  =RandomForestClassifier()\n",
    "# X= fdf2[xcols]\n",
    "# # y= fdf2['PctChange1']\n",
    "# # y = fdf2['20d_ret']\n",
    "# # y = fdf2['Open_Ret']\n",
    "# y = 1*(fdf2['Close_Open'] > 0)\n",
    "\n",
    "# import numpy as np\n",
    "# from sklearn.model_selection import train_test_split\n",
    "# from sklearn.metrics import mean_squared_error, mean_absolute_error\n",
    "# X_train, X_test, y_train, y_test = train_test_split(X, y, test_size=0.3, random_state=12)\n",
    "# print(\"Training set size:\", len(X_train))\n",
    "# print(\"Testing set size:\", len(X_test))\n",
    "\n",
    "\n",
    "# model.fit(X_train,y_train)\n",
    "# # Make predictions on the validation set\n",
    "# y_pred = model.predict(X_test)\n",
    "\n",
    "# # Compute the mean squared error (MSE) on the validation set\n",
    "# mse = mean_absolute_error(y_test, y_pred)\n",
    "\n",
    "# # Print the validation error\n",
    "# print(\"Validation MAE:\",mse)\n",
    "\n",
    "\n",
    "\n",
    "# try:\n",
    "#     print(model.predict(test_df[xcols]),model.coef_, model.intercept_)\n",
    "# except:\n",
    "#     print(model.predict(test_df[xcols]), model.feature_importances_)\n"
   ]
  },
  {
   "cell_type": "code",
   "execution_count": 331,
   "id": "66e66bd2-6919-4585-9796-d4bc7948e691",
   "metadata": {},
   "outputs": [],
   "source": [
    "# pd.DataFrame({\"yp\": y_pred, \"yval\": y_test}).plot.scatter(x=\"yp\", y=\"yval\")"
   ]
  },
  {
   "cell_type": "code",
   "execution_count": 339,
   "id": "86a5b272-7739-48ba-bc46-0583170c27f9",
   "metadata": {},
   "outputs": [
    {
     "data": {
      "text/plain": [
       "(array([0.04340675]), array([0.57573537, 0.39106491, 0.03319972]))"
      ]
     },
     "execution_count": 339,
     "metadata": {},
     "output_type": "execute_result"
    }
   ],
   "source": [
    "model = RandomForestRegressor()\n",
    "X= fdf2[xcols]\n",
    "y= fdf2['PctChange1']\n",
    "y = fdf2['20d_ret']\n",
    "model.fit(X,y)\n",
    "\n",
    "# model.coef_, model.intercept_\n",
    "model.predict(test_df[xcols]), model.feature_importances_\n"
   ]
  },
  {
   "cell_type": "code",
   "execution_count": null,
   "id": "b227c474-c79c-4abe-9b50-2bb8d7ef3c27",
   "metadata": {},
   "outputs": [],
   "source": []
  },
  {
   "cell_type": "code",
   "execution_count": 342,
   "id": "bc896686-d901-40d8-8063-2e013e752411",
   "metadata": {},
   "outputs": [],
   "source": [
    "# fdf2.plot.scatter(x=\"Oversubscription_Rate\", y=\"PctChange1\")\n",
    "# fdf2.plot.scatter(x=\"Oversubscription_Rate\", y=\"Open_Ret\")\n",
    "# fdf2.plot.scatter(x=\"Oversubscription_Rate\", y=\"Close_Open\")"
   ]
  },
  {
   "cell_type": "code",
   "execution_count": 401,
   "id": "23a888f8-9209-4ef9-a5c0-86671ce09661",
   "metadata": {},
   "outputs": [],
   "source": [
    "df = fdf2.query('C0==1')\n",
    "# df = fdf2"
   ]
  },
  {
   "cell_type": "code",
   "execution_count": 405,
   "id": "ac3be867-805c-41b0-8d33-c642fb621fdc",
   "metadata": {},
   "outputs": [
    {
     "data": {
      "image/png": "[encoded data removed]",
      "text/plain": [
       "<Figure size 1080x648 with 1 Axes>"
      ]
     },
     "metadata": {},
     "output_type": "display_data"
    }
   ],
   "source": [
    "import pandas as pd\n",
    "import matplotlib.pyplot as plt\n",
    "import seaborn as sns\n",
    "import numpy as np\n",
    "import statsmodels.api as sm\n",
    "\n",
    "# Assuming you have a pandas DataFrame called 'df' with columns 'x' and 'y'\n",
    "# sns.set(style='ticks', palette='colorblind')\n",
    "plt.style.use('fivethirtyeight')\n",
    "plt.figure(figsize=(15, 9))\n",
    "xcol = 'Oversubscription_Rate'\n",
    "ycol =\"Open_Ret\"\n",
    "ycol_ = \"Opening Price vs IPO Price %\"\n",
    "# Scatterplot\n",
    "sns.scatterplot(data=df, x=xcol, y=ycol)\n",
    "\n",
    "# Regression line\n",
    "model = sm.OLS(df[ycol], sm.add_constant(df[xcol])).fit()\n",
    "x_values = np.linspace(df[xcol].min(), df[xcol].max(), 100)\n",
    "y_values = model.predict(sm.add_constant(x_values))\n",
    "plt.plot(x_values, y_values, color='red', linewidth=1.5)\n",
    "\n",
    "# Annotation\n",
    "reg_eq = f'y = {model.params[0]:.2f} + {model.params[1]:.2f}x'\n",
    "# plt.annotate(reg_eq, xy=(0.05, 0.95), xycoords='axes fraction')\n",
    "plt.text(df[xcol].max(), df[ycol].mean(), reg_eq, ha='right')\n",
    "\n",
    "# Highlight value at x=5\n",
    "# Highlight value at x=5 with a vertical line\n",
    "highlight_x = 5.28\n",
    "highlight_y = model.params[0] + model.params[1] * highlight_x\n",
    "plt.axvline(x=highlight_x, linestyle='--', color='green', zorder=10, linewidth=1.5)\n",
    "highlight_annotation = f'x={highlight_x}, y={highlight_y:.1%}'\n",
    "plt.text(highlight_x+2, df[ycol].max(), highlight_annotation, ha='left')\n",
    "\n",
    "# Labels and title\n",
    "plt.xlabel(xcol)\n",
    "\n",
    "plt.ylabel(ycol_)\n",
    "plt.title('Opening Return %')\n",
    "\n",
    "# Show the plot\n",
    "plt.show()"
   ]
  },
  {
   "cell_type": "code",
   "execution_count": 407,
   "id": "d96ec5f9-a520-4f2c-ab52-28b5cf0c20eb",
   "metadata": {},
   "outputs": [
    {
     "data": {
      "image/png": "[encoded data removed]",
      "text/plain": [
       "<Figure size 1080x648 with 1 Axes>"
      ]
     },
     "metadata": {},
     "output_type": "display_data"
    }
   ],
   "source": [
    "import pandas as pd\n",
    "import matplotlib.pyplot as plt\n",
    "import seaborn as sns\n",
    "import numpy as np\n",
    "import statsmodels.api as sm\n",
    "\n",
    "# Assuming you have a pandas DataFrame called 'df' with columns 'x' and 'y'\n",
    "# sns.set(style='ticks', palette='colorblind')\n",
    "plt.style.use('fivethirtyeight')\n",
    "plt.figure(figsize=(15, 9))\n",
    "xcol = 'Oversubscription_Rate'\n",
    "ycol =\"Close_Open\"\n",
    "ycol_ = \"Closing Price vs Opening Price %\"\n",
    "# Scatterplot\n",
    "sns.scatterplot(data=df, x=xcol, y=ycol)\n",
    "\n",
    "# Regression line\n",
    "model = sm.OLS(df[ycol], sm.add_constant(df[xcol])).fit()\n",
    "x_values = np.linspace(df[xcol].min(), df[xcol].max(), 100)\n",
    "y_values = model.predict(sm.add_constant(x_values))\n",
    "plt.plot(x_values, y_values, color='red', linewidth=1.5)\n",
    "\n",
    "# Annotation\n",
    "reg_eq = f'y = {model.params[0]:.2f} + {model.params[1]:.2f}x'\n",
    "# plt.annotate(reg_eq, xy=(0.05, 0.95), xycoords='axes fraction')\n",
    "plt.text(df[xcol].max(), df[ycol].mean(), reg_eq, ha='right')\n",
    "\n",
    "# Highlight value at x=5\n",
    "# Highlight value at x=5 with a vertical line\n",
    "highlight_x = 5.28\n",
    "highlight_y = model.params[0] + model.params[1] * highlight_x\n",
    "plt.axvline(x=highlight_x, linestyle='--', color='green', zorder=10, linewidth=1.5)\n",
    "highlight_annotation = f'x={highlight_x}, y={highlight_y:.1%}'\n",
    "plt.text(highlight_x+2, df[ycol].max(), highlight_annotation, ha='left')\n",
    "\n",
    "# Labels and title\n",
    "plt.xlabel(xcol)\n",
    "\n",
    "plt.ylabel(ycol_)\n",
    "plt.title('Close-to-Open Return %')\n",
    "\n",
    "# Show the plot\n",
    "plt.show()"
   ]
  },
  {
   "cell_type": "code",
   "execution_count": 397,
   "id": "88405f07-b061-47be-a2b4-0c8d7c5401a7",
   "metadata": {},
   "outputs": [
    {
     "data": {
      "image/png": "[encoded data removed]",
      "text/plain": [
       "<Figure size 1080x648 with 1 Axes>"
      ]
     },
     "metadata": {},
     "output_type": "display_data"
    }
   ],
   "source": [
    "import pandas as pd\n",
    "import matplotlib.pyplot as plt\n",
    "import seaborn as sns\n",
    "import numpy as np\n",
    "import statsmodels.api as sm\n",
    "\n",
    "# Assuming you have a pandas DataFrame called 'df' with columns 'x' and 'y'\n",
    "# sns.set(style='ticks', palette='colorblind')\n",
    "plt.style.use('fivethirtyeight')\n",
    "plt.figure(figsize=(15, 9))\n",
    "xcol = 'Total_Applicants'\n",
    "ycol =\"Close_Open\"\n",
    "ycol_ = \"Closing Price vs Opening Price %\"\n",
    "# Scatterplot\n",
    "sns.scatterplot(data=df, x=xcol, y=ycol)\n",
    "\n",
    "# Regression line\n",
    "model = sm.OLS(df[ycol], sm.add_constant(df[xcol])).fit()\n",
    "x_values = np.linspace(df[xcol].min(), df[xcol].max(), 100)\n",
    "y_values = model.predict(sm.add_constant(x_values))\n",
    "plt.plot(x_values, y_values, color='red', linewidth=1.5)\n",
    "\n",
    "# Annotation\n",
    "reg_eq = f'y = {model.params[0]:.2f} + {model.params[1]:.2f}x'\n",
    "# plt.annotate(reg_eq, xy=(0.05, 0.95), xycoords='axes fraction')\n",
    "plt.text(df[xcol].max(), df[ycol].mean(), reg_eq, ha='right')\n",
    "\n",
    "# Highlight value at x=5\n",
    "# Highlight value at x=5 with a vertical line\n",
    "highlight_x = 2628\n",
    "highlight_y = model.params[0] + model.params[1] * highlight_x\n",
    "plt.axvline(x=highlight_x, linestyle='--', color='green', zorder=10, linewidth=1.5)\n",
    "highlight_annotation = f'x={highlight_x}, y={highlight_y:.2f}'\n",
    "plt.text(highlight_x+2, df[ycol].max(), highlight_annotation, ha='left')\n",
    "\n",
    "# Labels and title\n",
    "plt.xlabel(xcol)\n",
    "\n",
    "plt.ylabel(ycol_)\n",
    "# plt.title('Scatterplot with Regression Line')\n",
    "\n",
    "# Show the plot\n",
    "plt.show()"
   ]
  },
  {
   "cell_type": "code",
   "execution_count": 398,
   "id": "166a825a-f95e-4966-8e6d-f77e35597ac0",
   "metadata": {},
   "outputs": [
    {
     "data": {
      "image/png": "[encoded data removed]",
      "text/plain": [
       "<Figure size 1080x648 with 1 Axes>"
      ]
     },
     "metadata": {},
     "output_type": "display_data"
    }
   ],
   "source": [
    "import pandas as pd\n",
    "import matplotlib.pyplot as plt\n",
    "import seaborn as sns\n",
    "import numpy as np\n",
    "import statsmodels.api as sm\n",
    "\n",
    "# Assuming you have a pandas DataFrame called 'df' with columns 'x' and 'y'\n",
    "# sns.set(style='ticks', palette='colorblind')\n",
    "plt.style.use('fivethirtyeight')\n",
    "plt.figure(figsize=(15, 9))\n",
    "xcol = 'Total_Applicants'\n",
    "ycol =\"Open_Ret\"\n",
    "ycol_ = \"Closing Price vs Opening Price %\"\n",
    "# Scatterplot\n",
    "sns.scatterplot(data=df, x=xcol, y=ycol)\n",
    "\n",
    "# Regression line\n",
    "model = sm.OLS(df[ycol], sm.add_constant(df[xcol])).fit()\n",
    "x_values = np.linspace(df[xcol].min(), df[xcol].max(), 100)\n",
    "y_values = model.predict(sm.add_constant(x_values))\n",
    "plt.plot(x_values, y_values, color='red', linewidth=1.5)\n",
    "\n",
    "# Annotation\n",
    "reg_eq = f'y = {model.params[0]:.2f} + {model.params[1]:.2f}x'\n",
    "# plt.annotate(reg_eq, xy=(0.05, 0.95), xycoords='axes fraction')\n",
    "plt.text(df[xcol].max(), df[ycol].mean(), reg_eq, ha='right')\n",
    "\n",
    "# Highlight value at x=5\n",
    "# Highlight value at x=5 with a vertical line\n",
    "highlight_x = 2628\n",
    "highlight_y = model.params[0] + model.params[1] * highlight_x\n",
    "plt.axvline(x=highlight_x, linestyle='--', color='green', zorder=10, linewidth=1.5)\n",
    "highlight_annotation = f'x={highlight_x}, y={highlight_y:.2f}'\n",
    "plt.text(highlight_x+2, df[ycol].max(), highlight_annotation, ha='left')\n",
    "\n",
    "# Labels and title\n",
    "plt.xlabel(xcol)\n",
    "\n",
    "plt.ylabel(ycol_)\n",
    "# plt.title('Scatterplot with Regression Line')\n",
    "\n",
    "# Show the plot\n",
    "plt.show()"
   ]
  },
  {
   "cell_type": "code",
   "execution_count": 343,
   "id": "6ceac3c9-59c6-466c-b07d-011b53ebc7c1",
   "metadata": {},
   "outputs": [
    {
     "data": {
      "text/plain": [
       "<AxesSubplot:xlabel='Oversubscription_Rate', ylabel='Close_Open'>"
      ]
     },
     "execution_count": 343,
     "metadata": {},
     "output_type": "execute_result"
    },
    {
     "data": {
      "image/png": "[encoded data removed]",
      "text/plain": [
       "<Figure size 432x288 with 1 Axes>"
      ]
     },
     "metadata": {
      "needs_background": "light"
     },
     "output_type": "display_data"
    },
    {
     "data": {
      "image/png": "[encoded data removed]",
      "text/plain": [
       "<Figure size 432x288 with 1 Axes>"
      ]
     },
     "metadata": {
      "needs_background": "light"
     },
     "output_type": "display_data"
    },
    {
     "data": {
      "image/png": "[encoded data removed]",
      "text/plain": [
       "<Figure size 432x288 with 1 Axes>"
      ]
     },
     "metadata": {
      "needs_background": "light"
     },
     "output_type": "display_data"
    },
    {
     "data": {
      "image/png": "[encoded data removed]",
      "text/plain": [
       "<Figure size 432x288 with 1 Axes>"
      ]
     },
     "metadata": {
      "needs_background": "light"
     },
     "output_type": "display_data"
    }
   ],
   "source": [
    "fdf2.query('C0==1').plot.scatter(x=\"Oversubscription_Rate\", y=\"PctChange1\")\n",
    "fdf2.query('C0==1').plot.scatter(x=\"Oversubscription_Rate\", y=\"20d_ret\")\n",
    "fdf2.query('C0==1').plot.scatter(x=\"Oversubscription_Rate\", y=\"Open_Ret\")\n",
    "fdf2.query('C0==1').plot.scatter(x=\"Oversubscription_Rate\", y=\"Close_Open\")\n",
    "\n"
   ]
  },
  {
   "cell_type": "code",
   "execution_count": 344,
   "id": "0f6420f1-600e-4fb3-85d5-c07502f0f68e",
   "metadata": {},
   "outputs": [
    {
     "data": {
      "text/plain": [
       "<AxesSubplot:xlabel='Total_Applicants', ylabel='Close_Open'>"
      ]
     },
     "execution_count": 344,
     "metadata": {},
     "output_type": "execute_result"
    },
    {
     "data": {
      "image/png": "[encoded data removed]",
      "text/plain": [
       "<Figure size 432x288 with 1 Axes>"
      ]
     },
     "metadata": {
      "needs_background": "light"
     },
     "output_type": "display_data"
    },
    {
     "data": {
      "image/png": "[encoded data removed]",
      "text/plain": [
       "<Figure size 432x288 with 1 Axes>"
      ]
     },
     "metadata": {
      "needs_background": "light"
     },
     "output_type": "display_data"
    },
    {
     "data": {
      "image/png": "[encoded data removed]",
      "text/plain": [
       "<Figure size 432x288 with 1 Axes>"
      ]
     },
     "metadata": {
      "needs_background": "light"
     },
     "output_type": "display_data"
    },
    {
     "data": {
      "image/png": "[encoded data removed]",
      "text/plain": [
       "<Figure size 432x288 with 1 Axes>"
      ]
     },
     "metadata": {
      "needs_background": "light"
     },
     "output_type": "display_data"
    }
   ],
   "source": [
    "fdf2.query('C0==1').plot.scatter(x=\"Total_Applicants\", y=\"PctChange1\")\n",
    "fdf2.query('C0==1').plot.scatter(x=\"Total_Applicants\", y=\"20d_ret\")\n",
    "fdf2.query('C0==1').plot.scatter(x=\"Total_Applicants\", y=\"Open_Ret\")\n",
    "fdf2.query('C0==1').plot.scatter(x=\"Total_Applicants\", y=\"Close_Open\")\n",
    "\n",
    "\n",
    "\n",
    "\n",
    "# fdf2.query('C0==1').plot.scatter(x=\"Total_Applicants\", y=\"PctChange1\")\n",
    "# fdf2.query('C0==1').plot.scatter(x=\"Total_Applicants\", y=\"20d_ret\")"
   ]
  },
  {
   "cell_type": "code",
   "execution_count": 325,
   "id": "03bdbeab-9379-43eb-a1ec-9667f1143911",
   "metadata": {},
   "outputs": [
    {
     "data": {
      "text/plain": [
       "<AxesSubplot:xlabel='Oversubscription_Rate', ylabel='PctChange1'>"
      ]
     },
     "execution_count": 325,
     "metadata": {},
     "output_type": "execute_result"
    },
    {
     "data": {
      "image/png": "[encoded data removed]",
      "text/plain": [
       "<Figure size 432x288 with 1 Axes>"
      ]
     },
     "metadata": {
      "needs_background": "light"
     },
     "output_type": "display_data"
    }
   ],
   "source": [
    "fdf2.query('C0==0').plot.scatter(x=\"Oversubscription_Rate\", y=\"PctChange1\")"
   ]
  },
  {
   "cell_type": "code",
   "execution_count": 326,
   "id": "3e93656f-0a49-4f05-bbce-339dbaa8eeb9",
   "metadata": {},
   "outputs": [
    {
     "data": {
      "text/plain": [
       "['Oversubscription_Rate', 'Total_Applicants', 'C0', 'Open_Ret']"
      ]
     },
     "execution_count": 326,
     "metadata": {},
     "output_type": "execute_result"
    }
   ],
   "source": [
    "xcols"
   ]
  },
  {
   "cell_type": "code",
   "execution_count": null,
   "id": "d745bd3f-3643-4e93-a8dc-5c51826c7feb",
   "metadata": {},
   "outputs": [],
   "source": []
  },
  {
   "cell_type": "code",
   "execution_count": 148,
   "id": "a76289c7-53f9-454c-9932-012580fb0d3f",
   "metadata": {},
   "outputs": [],
   "source": [
    "# fdf.set_index('Date').resample('1Y')['Total_Applicants'].mean().plot()"
   ]
  },
  {
   "cell_type": "code",
   "execution_count": 149,
   "id": "64c1db41-c506-4dae-ba57-53b00501428f",
   "metadata": {},
   "outputs": [],
   "source": [
    "# fdf.loc[fdf['Oversubscription_Rate'].isna()]\n",
    "\n",
    "# df.set_index('Stock').loc['FFB']"
   ]
  },
  {
   "cell_type": "code",
   "execution_count": 226,
   "id": "e3fd9fba-c211-4f3c-b96a-ac362b8471d4",
   "metadata": {},
   "outputs": [
    {
     "data": {
      "text/plain": [
       "<AxesSubplot:xlabel='Oversubscription_Rate', ylabel='PctChange1'>"
      ]
     },
     "execution_count": 226,
     "metadata": {},
     "output_type": "execute_result"
    },
    {
     "data": {
      "image/png": "[encoded data removed]",
      "text/plain": [
       "<Figure size 432x288 with 1 Axes>"
      ]
     },
     "metadata": {
      "needs_background": "light"
     },
     "output_type": "display_data"
    }
   ],
   "source": [
    "# df = pd.read_excel('IPO_stocks.xlsx') #.dropna()\n",
    "df = fdf.loc[~fdf['Oversubscription_Rate'].isna()].copy()\n",
    "df = df.loc[~df['Total_Applicants'].isna()].copy()\n",
    "df.plot.scatter(x=\"Oversubscription_Rate\", y=\"PctChange1\")\n",
    "# df.plot.scatter(x=\"Total_Applicants\", y=\"20d_ret\")\n",
    "# df.plot.scatter(x=\"Oversubscription_Rate\", y=\"20d_ret\")\n"
   ]
  },
  {
   "cell_type": "code",
   "execution_count": 94,
   "id": "174f8beb-6e23-4b7b-bf53-720833d96a92",
   "metadata": {},
   "outputs": [
    {
     "data": {
      "text/html": [
       "<div>\n",
       "<style scoped>\n",
       "    .dataframe tbody tr th:only-of-type {\n",
       "        vertical-align: middle;\n",
       "    }\n",
       "\n",
       "    .dataframe tbody tr th {\n",
       "        vertical-align: top;\n",
       "    }\n",
       "\n",
       "    .dataframe thead th {\n",
       "        text-align: right;\n",
       "    }\n",
       "</style>\n",
       "<table border=\"1\" class=\"dataframe\">\n",
       "  <thead>\n",
       "    <tr style=\"text-align: right;\">\n",
       "      <th></th>\n",
       "      <th>Oversubscription_Rate</th>\n",
       "      <th>Total_Applicants</th>\n",
       "    </tr>\n",
       "  </thead>\n",
       "  <tbody>\n",
       "    <tr>\n",
       "      <th>Oversubscription_Rate</th>\n",
       "      <td>1.000000</td>\n",
       "      <td>0.592768</td>\n",
       "    </tr>\n",
       "    <tr>\n",
       "      <th>Total_Applicants</th>\n",
       "      <td>0.592768</td>\n",
       "      <td>1.000000</td>\n",
       "    </tr>\n",
       "  </tbody>\n",
       "</table>\n",
       "</div>"
      ],
      "text/plain": [
       "                       Oversubscription_Rate  Total_Applicants\n",
       "Oversubscription_Rate               1.000000          0.592768\n",
       "Total_Applicants                    0.592768          1.000000"
      ]
     },
     "execution_count": 94,
     "metadata": {},
     "output_type": "execute_result"
    }
   ],
   "source": [
    "df[['Oversubscription_Rate', 'Total_Applicants']].corr()"
   ]
  },
  {
   "cell_type": "code",
   "execution_count": 95,
   "id": "f728e04a-028f-43b8-825b-43f51eecfda3",
   "metadata": {},
   "outputs": [
    {
     "data": {
      "text/plain": [
       "<AxesSubplot:xlabel='Oversubscription_Rate', ylabel='Bumiputera_Applicants'>"
      ]
     },
     "execution_count": 95,
     "metadata": {},
     "output_type": "execute_result"
    },
    {
     "data": {
      "image/png": "[encoded data removed]",
      "text/plain": [
       "<Figure size 432x288 with 1 Axes>"
      ]
     },
     "metadata": {
      "needs_background": "light"
     },
     "output_type": "display_data"
    }
   ],
   "source": [
    "# df.plot.scatter(x= \"Oversubscription_Rate\",y=\"Total_Applicants\")\n",
    "df.plot.scatter(x= \"Oversubscription_Rate\",y=\"Bumiputera_Applicants\")"
   ]
  },
  {
   "cell_type": "code",
   "execution_count": 96,
   "id": "c1c7c14a-0857-4879-8b92-16c27db0c990",
   "metadata": {},
   "outputs": [
    {
     "data": {
      "text/plain": [
       "<AxesSubplot:>"
      ]
     },
     "execution_count": 96,
     "metadata": {},
     "output_type": "execute_result"
    },
    {
     "data": {
      "image/png": "[encoded data removed]",
      "text/plain": [
       "<Figure size 432x288 with 1 Axes>"
      ]
     },
     "metadata": {
      "needs_background": "light"
     },
     "output_type": "display_data"
    }
   ],
   "source": [
    "df_ = df.sort_values(\"Oversubscription_Rate\") #.head(20)\n",
    "# df_.loc[df_['Oversubscription_Rate'] < 10, 'PctChange1'].hist()\n",
    "df_.loc[df_['Oversubscription_Rate'] < 10, 'PctChange1'].hist()\n",
    "\n"
   ]
  },
  {
   "cell_type": "code",
   "execution_count": 97,
   "id": "07bbc58e-9197-4ce3-8a44-fabb651c92c2",
   "metadata": {},
   "outputs": [
    {
     "data": {
      "text/plain": [
       "<AxesSubplot:>"
      ]
     },
     "execution_count": 97,
     "metadata": {},
     "output_type": "execute_result"
    },
    {
     "data": {
      "image/png": "[encoded data removed]",
      "text/plain": [
       "<Figure size 432x288 with 1 Axes>"
      ]
     },
     "metadata": {
      "needs_background": "light"
     },
     "output_type": "display_data"
    }
   ],
   "source": [
    "df_.loc[df_['Oversubscription_Rate'] > 10, 'PctChange1'].hist()\n"
   ]
  },
  {
   "cell_type": "code",
   "execution_count": 98,
   "id": "70e14e86-d77b-4b78-b6ef-ef2f2de2a6d1",
   "metadata": {},
   "outputs": [
    {
     "data": {
      "text/html": [
       "<div>\n",
       "<style scoped>\n",
       "    .dataframe tbody tr th:only-of-type {\n",
       "        vertical-align: middle;\n",
       "    }\n",
       "\n",
       "    .dataframe tbody tr th {\n",
       "        vertical-align: top;\n",
       "    }\n",
       "\n",
       "    .dataframe thead th {\n",
       "        text-align: right;\n",
       "    }\n",
       "</style>\n",
       "<table border=\"1\" class=\"dataframe\">\n",
       "  <thead>\n",
       "    <tr style=\"text-align: right;\">\n",
       "      <th></th>\n",
       "      <th>Date</th>\n",
       "      <th>Stock</th>\n",
       "      <th>StockLongName</th>\n",
       "      <th>Open</th>\n",
       "      <th>Close</th>\n",
       "      <th>PriceChange1</th>\n",
       "      <th>PctChange1</th>\n",
       "      <th>Volume</th>\n",
       "      <th>NumShares</th>\n",
       "      <th>20d_ret</th>\n",
       "      <th>Oversubscription_Rate</th>\n",
       "      <th>Total_Applicants</th>\n",
       "      <th>Bumiputera_Applicants</th>\n",
       "      <th>Bumiputera_Oversubscription_Rate</th>\n",
       "      <th>Public_Applicants</th>\n",
       "      <th>Public_Oversubscription_Rate</th>\n",
       "    </tr>\n",
       "    <tr>\n",
       "      <th>Code</th>\n",
       "      <th></th>\n",
       "      <th></th>\n",
       "      <th></th>\n",
       "      <th></th>\n",
       "      <th></th>\n",
       "      <th></th>\n",
       "      <th></th>\n",
       "      <th></th>\n",
       "      <th></th>\n",
       "      <th></th>\n",
       "      <th></th>\n",
       "      <th></th>\n",
       "      <th></th>\n",
       "      <th></th>\n",
       "      <th></th>\n",
       "      <th></th>\n",
       "    </tr>\n",
       "  </thead>\n",
       "  <tbody>\n",
       "    <tr>\n",
       "      <th>218</th>\n",
       "      <td>2020-03-18</td>\n",
       "      <td>ACO</td>\n",
       "      <td>ACO GROUP BERHAD</td>\n",
       "      <td>0.200</td>\n",
       "      <td>0.160</td>\n",
       "      <td>-0.120</td>\n",
       "      <td>-0.428571</td>\n",
       "      <td>47227300</td>\n",
       "      <td>300000000</td>\n",
       "      <td>-0.125000</td>\n",
       "      <td>15.53</td>\n",
       "      <td>3261.0</td>\n",
       "      <td>NaN</td>\n",
       "      <td>14.79</td>\n",
       "      <td>NaN</td>\n",
       "      <td>16.28</td>\n",
       "    </tr>\n",
       "    <tr>\n",
       "      <th>5305</th>\n",
       "      <td>2022-01-25</td>\n",
       "      <td>SENHENG</td>\n",
       "      <td>SENHENG NEW RETAIL BERHAD</td>\n",
       "      <td>0.900</td>\n",
       "      <td>0.855</td>\n",
       "      <td>-0.215</td>\n",
       "      <td>-0.200935</td>\n",
       "      <td>163548600</td>\n",
       "      <td>1500000000</td>\n",
       "      <td>-0.186916</td>\n",
       "      <td>10.44</td>\n",
       "      <td>16548.0</td>\n",
       "      <td>6869.0</td>\n",
       "      <td>5.22</td>\n",
       "      <td>9679.0</td>\n",
       "      <td>15.66</td>\n",
       "    </tr>\n",
       "    <tr>\n",
       "      <th>279</th>\n",
       "      <td>2023-06-01</td>\n",
       "      <td>SYNERGY</td>\n",
       "      <td>SYNERGY HOUSE BERHAD</td>\n",
       "      <td>0.380</td>\n",
       "      <td>0.350</td>\n",
       "      <td>-0.080</td>\n",
       "      <td>-0.186047</td>\n",
       "      <td>82379900</td>\n",
       "      <td>500000000</td>\n",
       "      <td>0.011628</td>\n",
       "      <td>14.02</td>\n",
       "      <td>12347.0</td>\n",
       "      <td>7277.0</td>\n",
       "      <td>12.13</td>\n",
       "      <td>5070.0</td>\n",
       "      <td>15.90</td>\n",
       "    </tr>\n",
       "    <tr>\n",
       "      <th>226</th>\n",
       "      <td>2020-10-20</td>\n",
       "      <td>ANEKA</td>\n",
       "      <td>ANEKA JARINGAN HOLDINGS BERHAD</td>\n",
       "      <td>0.350</td>\n",
       "      <td>0.290</td>\n",
       "      <td>-0.040</td>\n",
       "      <td>-0.121212</td>\n",
       "      <td>123711200</td>\n",
       "      <td>538100000</td>\n",
       "      <td>-0.196970</td>\n",
       "      <td>12.68</td>\n",
       "      <td>9094.0</td>\n",
       "      <td>NaN</td>\n",
       "      <td>NaN</td>\n",
       "      <td>NaN</td>\n",
       "      <td>NaN</td>\n",
       "    </tr>\n",
       "    <tr>\n",
       "      <th>198</th>\n",
       "      <td>2018-03-27</td>\n",
       "      <td>GDB</td>\n",
       "      <td>GDB HOLDINGS BERHAD</td>\n",
       "      <td>0.360</td>\n",
       "      <td>0.325</td>\n",
       "      <td>-0.025</td>\n",
       "      <td>-0.071429</td>\n",
       "      <td>42330300</td>\n",
       "      <td>625000000</td>\n",
       "      <td>-0.100000</td>\n",
       "      <td>43.00</td>\n",
       "      <td>8551.0</td>\n",
       "      <td>5180.0</td>\n",
       "      <td>44.58</td>\n",
       "      <td>3391.0</td>\n",
       "      <td>41.32</td>\n",
       "    </tr>\n",
       "    <tr>\n",
       "      <th>5303</th>\n",
       "      <td>2021-12-21</td>\n",
       "      <td>SWIFT</td>\n",
       "      <td>SWIFT HAULAGE BERHAD</td>\n",
       "      <td>1.080</td>\n",
       "      <td>0.960</td>\n",
       "      <td>-0.070</td>\n",
       "      <td>-0.067961</td>\n",
       "      <td>158559100</td>\n",
       "      <td>889804502</td>\n",
       "      <td>-0.228155</td>\n",
       "      <td>18.85</td>\n",
       "      <td>13536.0</td>\n",
       "      <td>6564.0</td>\n",
       "      <td>11.88</td>\n",
       "      <td>6972.0</td>\n",
       "      <td>25.82</td>\n",
       "    </tr>\n",
       "    <tr>\n",
       "      <th>5300</th>\n",
       "      <td>2021-07-15</td>\n",
       "      <td>YENHER</td>\n",
       "      <td>YENHER HOLDINGS BERHAD</td>\n",
       "      <td>0.995</td>\n",
       "      <td>0.900</td>\n",
       "      <td>-0.050</td>\n",
       "      <td>-0.052632</td>\n",
       "      <td>61827100</td>\n",
       "      <td>300000000</td>\n",
       "      <td>-0.052632</td>\n",
       "      <td>13.80</td>\n",
       "      <td>10931.0</td>\n",
       "      <td>3007.0</td>\n",
       "      <td>5.05</td>\n",
       "      <td>7924.0</td>\n",
       "      <td>22.56</td>\n",
       "    </tr>\n",
       "    <tr>\n",
       "      <th>253</th>\n",
       "      <td>2022-07-13</td>\n",
       "      <td>INFOTEC</td>\n",
       "      <td>INFOLINE TEC GROUP BERHAD</td>\n",
       "      <td>0.330</td>\n",
       "      <td>0.305</td>\n",
       "      <td>-0.015</td>\n",
       "      <td>-0.046875</td>\n",
       "      <td>114936700</td>\n",
       "      <td>363229120</td>\n",
       "      <td>0.078125</td>\n",
       "      <td>60.90</td>\n",
       "      <td>10630.0</td>\n",
       "      <td>4829.0</td>\n",
       "      <td>38.92</td>\n",
       "      <td>5801.0</td>\n",
       "      <td>82.87</td>\n",
       "    </tr>\n",
       "    <tr>\n",
       "      <th>250</th>\n",
       "      <td>2022-06-23</td>\n",
       "      <td>YXPM</td>\n",
       "      <td>YX PRECIOUS METALS BHD</td>\n",
       "      <td>0.280</td>\n",
       "      <td>0.270</td>\n",
       "      <td>-0.010</td>\n",
       "      <td>-0.035714</td>\n",
       "      <td>143162800</td>\n",
       "      <td>372150000</td>\n",
       "      <td>-0.321429</td>\n",
       "      <td>26.36</td>\n",
       "      <td>8105.0</td>\n",
       "      <td>NaN</td>\n",
       "      <td>NaN</td>\n",
       "      <td>NaN</td>\n",
       "      <td>NaN</td>\n",
       "    </tr>\n",
       "    <tr>\n",
       "      <th>225</th>\n",
       "      <td>2020-10-16</td>\n",
       "      <td>SCGBHD</td>\n",
       "      <td>SOUTHERN CABLE GROUP BERHAD</td>\n",
       "      <td>0.335</td>\n",
       "      <td>0.330</td>\n",
       "      <td>-0.010</td>\n",
       "      <td>-0.029412</td>\n",
       "      <td>304948800</td>\n",
       "      <td>800000000</td>\n",
       "      <td>-0.014706</td>\n",
       "      <td>10.48</td>\n",
       "      <td>10308.0</td>\n",
       "      <td>NaN</td>\n",
       "      <td>NaN</td>\n",
       "      <td>NaN</td>\n",
       "      <td>NaN</td>\n",
       "    </tr>\n",
       "    <tr>\n",
       "      <th>216</th>\n",
       "      <td>2019-11-08</td>\n",
       "      <td>SPRING</td>\n",
       "      <td>SPRING ART HOLDINGS BERHAD</td>\n",
       "      <td>0.250</td>\n",
       "      <td>0.250</td>\n",
       "      <td>0.000</td>\n",
       "      <td>0.000000</td>\n",
       "      <td>95796400</td>\n",
       "      <td>415687000</td>\n",
       "      <td>-0.040000</td>\n",
       "      <td>14.71</td>\n",
       "      <td>3751.0</td>\n",
       "      <td>NaN</td>\n",
       "      <td>NaN</td>\n",
       "      <td>NaN</td>\n",
       "      <td>NaN</td>\n",
       "    </tr>\n",
       "    <tr>\n",
       "      <th>246</th>\n",
       "      <td>2022-05-24</td>\n",
       "      <td>CNERGEN</td>\n",
       "      <td>CNERGENZ BERHAD</td>\n",
       "      <td>0.605</td>\n",
       "      <td>0.580</td>\n",
       "      <td>0.000</td>\n",
       "      <td>0.000000</td>\n",
       "      <td>109865900</td>\n",
       "      <td>498000000</td>\n",
       "      <td>0.060345</td>\n",
       "      <td>40.32</td>\n",
       "      <td>16186.0</td>\n",
       "      <td>NaN</td>\n",
       "      <td>NaN</td>\n",
       "      <td>NaN</td>\n",
       "      <td>NaN</td>\n",
       "    </tr>\n",
       "    <tr>\n",
       "      <th>206</th>\n",
       "      <td>2019-01-08</td>\n",
       "      <td>NADIBHD</td>\n",
       "      <td>GAGASAN NADI CERGAS BERHAD</td>\n",
       "      <td>0.390</td>\n",
       "      <td>0.305</td>\n",
       "      <td>0.005</td>\n",
       "      <td>0.016667</td>\n",
       "      <td>118598400</td>\n",
       "      <td>753000000</td>\n",
       "      <td>-0.116667</td>\n",
       "      <td>20.20</td>\n",
       "      <td>6029.0</td>\n",
       "      <td>NaN</td>\n",
       "      <td>NaN</td>\n",
       "      <td>NaN</td>\n",
       "      <td>NaN</td>\n",
       "    </tr>\n",
       "    <tr>\n",
       "      <th>197</th>\n",
       "      <td>2018-03-06</td>\n",
       "      <td>WEGMANS</td>\n",
       "      <td>WEGMANS HOLDINGS BERHAD</td>\n",
       "      <td>0.305</td>\n",
       "      <td>0.295</td>\n",
       "      <td>0.005</td>\n",
       "      <td>0.017241</td>\n",
       "      <td>82804300</td>\n",
       "      <td>500000000</td>\n",
       "      <td>-0.137931</td>\n",
       "      <td>16.35</td>\n",
       "      <td>7744.0</td>\n",
       "      <td>4708.0</td>\n",
       "      <td>16.76</td>\n",
       "      <td>3036.0</td>\n",
       "      <td>15.93</td>\n",
       "    </tr>\n",
       "    <tr>\n",
       "      <th>5295</th>\n",
       "      <td>2020-02-20</td>\n",
       "      <td>INNATURE</td>\n",
       "      <td>INNATURE BERHAD</td>\n",
       "      <td>0.720</td>\n",
       "      <td>0.655</td>\n",
       "      <td>0.015</td>\n",
       "      <td>0.023438</td>\n",
       "      <td>143703100</td>\n",
       "      <td>705881488</td>\n",
       "      <td>-0.546875</td>\n",
       "      <td>13.43</td>\n",
       "      <td>6014.0</td>\n",
       "      <td>3429.0</td>\n",
       "      <td>12.15</td>\n",
       "      <td>2585.0</td>\n",
       "      <td>14.72</td>\n",
       "    </tr>\n",
       "  </tbody>\n",
       "</table>\n",
       "</div>"
      ],
      "text/plain": [
       "           Date     Stock                   StockLongName   Open  Close  \\\n",
       "Code                                                                      \n",
       "218  2020-03-18       ACO                ACO GROUP BERHAD  0.200  0.160   \n",
       "5305 2022-01-25   SENHENG       SENHENG NEW RETAIL BERHAD  0.900  0.855   \n",
       "279  2023-06-01   SYNERGY            SYNERGY HOUSE BERHAD  0.380  0.350   \n",
       "226  2020-10-20     ANEKA  ANEKA JARINGAN HOLDINGS BERHAD  0.350  0.290   \n",
       "198  2018-03-27       GDB             GDB HOLDINGS BERHAD  0.360  0.325   \n",
       "5303 2021-12-21     SWIFT            SWIFT HAULAGE BERHAD  1.080  0.960   \n",
       "5300 2021-07-15    YENHER          YENHER HOLDINGS BERHAD  0.995  0.900   \n",
       "253  2022-07-13   INFOTEC       INFOLINE TEC GROUP BERHAD  0.330  0.305   \n",
       "250  2022-06-23      YXPM          YX PRECIOUS METALS BHD  0.280  0.270   \n",
       "225  2020-10-16    SCGBHD     SOUTHERN CABLE GROUP BERHAD  0.335  0.330   \n",
       "216  2019-11-08    SPRING      SPRING ART HOLDINGS BERHAD  0.250  0.250   \n",
       "246  2022-05-24   CNERGEN                 CNERGENZ BERHAD  0.605  0.580   \n",
       "206  2019-01-08   NADIBHD      GAGASAN NADI CERGAS BERHAD  0.390  0.305   \n",
       "197  2018-03-06   WEGMANS         WEGMANS HOLDINGS BERHAD  0.305  0.295   \n",
       "5295 2020-02-20  INNATURE                 INNATURE BERHAD  0.720  0.655   \n",
       "\n",
       "      PriceChange1  PctChange1     Volume   NumShares   20d_ret  \\\n",
       "Code                                                              \n",
       "218         -0.120   -0.428571   47227300   300000000 -0.125000   \n",
       "5305        -0.215   -0.200935  163548600  1500000000 -0.186916   \n",
       "279         -0.080   -0.186047   82379900   500000000  0.011628   \n",
       "226         -0.040   -0.121212  123711200   538100000 -0.196970   \n",
       "198         -0.025   -0.071429   42330300   625000000 -0.100000   \n",
       "5303        -0.070   -0.067961  158559100   889804502 -0.228155   \n",
       "5300        -0.050   -0.052632   61827100   300000000 -0.052632   \n",
       "253         -0.015   -0.046875  114936700   363229120  0.078125   \n",
       "250         -0.010   -0.035714  143162800   372150000 -0.321429   \n",
       "225         -0.010   -0.029412  304948800   800000000 -0.014706   \n",
       "216          0.000    0.000000   95796400   415687000 -0.040000   \n",
       "246          0.000    0.000000  109865900   498000000  0.060345   \n",
       "206          0.005    0.016667  118598400   753000000 -0.116667   \n",
       "197          0.005    0.017241   82804300   500000000 -0.137931   \n",
       "5295         0.015    0.023438  143703100   705881488 -0.546875   \n",
       "\n",
       "      Oversubscription_Rate  Total_Applicants  Bumiputera_Applicants  \\\n",
       "Code                                                                   \n",
       "218                   15.53            3261.0                    NaN   \n",
       "5305                  10.44           16548.0                 6869.0   \n",
       "279                   14.02           12347.0                 7277.0   \n",
       "226                   12.68            9094.0                    NaN   \n",
       "198                   43.00            8551.0                 5180.0   \n",
       "5303                  18.85           13536.0                 6564.0   \n",
       "5300                  13.80           10931.0                 3007.0   \n",
       "253                   60.90           10630.0                 4829.0   \n",
       "250                   26.36            8105.0                    NaN   \n",
       "225                   10.48           10308.0                    NaN   \n",
       "216                   14.71            3751.0                    NaN   \n",
       "246                   40.32           16186.0                    NaN   \n",
       "206                   20.20            6029.0                    NaN   \n",
       "197                   16.35            7744.0                 4708.0   \n",
       "5295                  13.43            6014.0                 3429.0   \n",
       "\n",
       "      Bumiputera_Oversubscription_Rate  Public_Applicants  \\\n",
       "Code                                                        \n",
       "218                              14.79                NaN   \n",
       "5305                              5.22             9679.0   \n",
       "279                              12.13             5070.0   \n",
       "226                                NaN                NaN   \n",
       "198                              44.58             3391.0   \n",
       "5303                             11.88             6972.0   \n",
       "5300                              5.05             7924.0   \n",
       "253                              38.92             5801.0   \n",
       "250                                NaN                NaN   \n",
       "225                                NaN                NaN   \n",
       "216                                NaN                NaN   \n",
       "246                                NaN                NaN   \n",
       "206                                NaN                NaN   \n",
       "197                              16.76             3036.0   \n",
       "5295                             12.15             2585.0   \n",
       "\n",
       "      Public_Oversubscription_Rate  \n",
       "Code                                \n",
       "218                          16.28  \n",
       "5305                         15.66  \n",
       "279                          15.90  \n",
       "226                            NaN  \n",
       "198                          41.32  \n",
       "5303                         25.82  \n",
       "5300                         22.56  \n",
       "253                          82.87  \n",
       "250                            NaN  \n",
       "225                            NaN  \n",
       "216                            NaN  \n",
       "246                            NaN  \n",
       "206                            NaN  \n",
       "197                          15.93  \n",
       "5295                         14.72  "
      ]
     },
     "execution_count": 98,
     "metadata": {},
     "output_type": "execute_result"
    }
   ],
   "source": [
    "df_.loc[df_['Oversubscription_Rate'] > 10, ].sort_values('PctChange1', ascending=True).head(15)"
   ]
  },
  {
   "cell_type": "code",
   "execution_count": 99,
   "id": "3e3e8b54-216c-4632-b19b-6f0448807a50",
   "metadata": {},
   "outputs": [
    {
     "data": {
      "text/html": [
       "<div>\n",
       "<style scoped>\n",
       "    .dataframe tbody tr th:only-of-type {\n",
       "        vertical-align: middle;\n",
       "    }\n",
       "\n",
       "    .dataframe tbody tr th {\n",
       "        vertical-align: top;\n",
       "    }\n",
       "\n",
       "    .dataframe thead th {\n",
       "        text-align: right;\n",
       "    }\n",
       "</style>\n",
       "<table border=\"1\" class=\"dataframe\">\n",
       "  <thead>\n",
       "    <tr style=\"text-align: right;\">\n",
       "      <th></th>\n",
       "      <th>Date</th>\n",
       "      <th>Stock</th>\n",
       "      <th>StockLongName</th>\n",
       "      <th>Open</th>\n",
       "      <th>Close</th>\n",
       "      <th>PriceChange1</th>\n",
       "      <th>PctChange1</th>\n",
       "      <th>Volume</th>\n",
       "      <th>NumShares</th>\n",
       "      <th>20d_ret</th>\n",
       "      <th>Oversubscription_Rate</th>\n",
       "      <th>Total_Applicants</th>\n",
       "      <th>Bumiputera_Applicants</th>\n",
       "      <th>Bumiputera_Oversubscription_Rate</th>\n",
       "      <th>Public_Applicants</th>\n",
       "      <th>Public_Oversubscription_Rate</th>\n",
       "    </tr>\n",
       "    <tr>\n",
       "      <th>Code</th>\n",
       "      <th></th>\n",
       "      <th></th>\n",
       "      <th></th>\n",
       "      <th></th>\n",
       "      <th></th>\n",
       "      <th></th>\n",
       "      <th></th>\n",
       "      <th></th>\n",
       "      <th></th>\n",
       "      <th></th>\n",
       "      <th></th>\n",
       "      <th></th>\n",
       "      <th></th>\n",
       "      <th></th>\n",
       "      <th></th>\n",
       "      <th></th>\n",
       "    </tr>\n",
       "  </thead>\n",
       "  <tbody>\n",
       "    <tr>\n",
       "      <th>247</th>\n",
       "      <td>2022-06-14</td>\n",
       "      <td>UNITRAD</td>\n",
       "      <td>UNITRADE INDUSTRIES BERHAD</td>\n",
       "      <td>0.265</td>\n",
       "      <td>0.300</td>\n",
       "      <td>-0.020</td>\n",
       "      <td>-0.062500</td>\n",
       "      <td>246856800</td>\n",
       "      <td>1562500000</td>\n",
       "      <td>-0.203125</td>\n",
       "      <td>2.35</td>\n",
       "      <td>7169.0</td>\n",
       "      <td>NaN</td>\n",
       "      <td>NaN</td>\n",
       "      <td>NaN</td>\n",
       "      <td>NaN</td>\n",
       "    </tr>\n",
       "    <tr>\n",
       "      <th>201</th>\n",
       "      <td>2018-07-20</td>\n",
       "      <td>NOVA</td>\n",
       "      <td>NOVA WELLNESS GROUP BERHAD</td>\n",
       "      <td>0.650</td>\n",
       "      <td>0.760</td>\n",
       "      <td>0.210</td>\n",
       "      <td>0.381818</td>\n",
       "      <td>87920400</td>\n",
       "      <td>317743815</td>\n",
       "      <td>0.090909</td>\n",
       "      <td>2.84</td>\n",
       "      <td>2200.0</td>\n",
       "      <td>824.0</td>\n",
       "      <td>1.62</td>\n",
       "      <td>1376.0</td>\n",
       "      <td>4.05</td>\n",
       "    </tr>\n",
       "    <tr>\n",
       "      <th>213</th>\n",
       "      <td>2019-09-25</td>\n",
       "      <td>MTAG</td>\n",
       "      <td>MTAG GROUP BERHAD</td>\n",
       "      <td>0.700</td>\n",
       "      <td>0.440</td>\n",
       "      <td>-0.090</td>\n",
       "      <td>-0.169811</td>\n",
       "      <td>288058800</td>\n",
       "      <td>681617400</td>\n",
       "      <td>-0.037736</td>\n",
       "      <td>3.84</td>\n",
       "      <td>3518.0</td>\n",
       "      <td>1639.0</td>\n",
       "      <td>1.80</td>\n",
       "      <td>1879.0</td>\n",
       "      <td>5.88</td>\n",
       "    </tr>\n",
       "    <tr>\n",
       "      <th>189</th>\n",
       "      <td>2017-01-17</td>\n",
       "      <td>MATANG</td>\n",
       "      <td>MATANG BERHAD</td>\n",
       "      <td>0.140</td>\n",
       "      <td>0.140</td>\n",
       "      <td>0.010</td>\n",
       "      <td>0.076923</td>\n",
       "      <td>303914800</td>\n",
       "      <td>1810000256</td>\n",
       "      <td>0.038462</td>\n",
       "      <td>4.21</td>\n",
       "      <td>6389.0</td>\n",
       "      <td>3046.0</td>\n",
       "      <td>3.10</td>\n",
       "      <td>3343.0</td>\n",
       "      <td>5.31</td>\n",
       "    </tr>\n",
       "    <tr>\n",
       "      <th>202</th>\n",
       "      <td>2018-07-24</td>\n",
       "      <td>RGTECH</td>\n",
       "      <td>RADIANT GLOBALTECH BERHAD</td>\n",
       "      <td>0.500</td>\n",
       "      <td>0.530</td>\n",
       "      <td>0.300</td>\n",
       "      <td>1.304348</td>\n",
       "      <td>179567100</td>\n",
       "      <td>525200000</td>\n",
       "      <td>0.543478</td>\n",
       "      <td>6.73</td>\n",
       "      <td>2193.0</td>\n",
       "      <td>NaN</td>\n",
       "      <td>NaN</td>\n",
       "      <td>NaN</td>\n",
       "      <td>NaN</td>\n",
       "    </tr>\n",
       "    <tr>\n",
       "      <th>...</th>\n",
       "      <td>...</td>\n",
       "      <td>...</td>\n",
       "      <td>...</td>\n",
       "      <td>...</td>\n",
       "      <td>...</td>\n",
       "      <td>...</td>\n",
       "      <td>...</td>\n",
       "      <td>...</td>\n",
       "      <td>...</td>\n",
       "      <td>...</td>\n",
       "      <td>...</td>\n",
       "      <td>...</td>\n",
       "      <td>...</td>\n",
       "      <td>...</td>\n",
       "      <td>...</td>\n",
       "      <td>...</td>\n",
       "    </tr>\n",
       "    <tr>\n",
       "      <th>5310</th>\n",
       "      <td>2023-01-17</td>\n",
       "      <td>KITACON</td>\n",
       "      <td>KUMPULAN KITACON BERHAD</td>\n",
       "      <td>0.990</td>\n",
       "      <td>0.750</td>\n",
       "      <td>0.070</td>\n",
       "      <td>0.102941</td>\n",
       "      <td>156697400</td>\n",
       "      <td>500000000</td>\n",
       "      <td>-0.029412</td>\n",
       "      <td>11.46</td>\n",
       "      <td>6876.0</td>\n",
       "      <td>4005.0</td>\n",
       "      <td>11.33</td>\n",
       "      <td>2871.0</td>\n",
       "      <td>11.59</td>\n",
       "    </tr>\n",
       "    <tr>\n",
       "      <th>5311</th>\n",
       "      <td>2023-03-10</td>\n",
       "      <td>CEB</td>\n",
       "      <td>CAPE EMS BERHAD</td>\n",
       "      <td>1.420</td>\n",
       "      <td>1.500</td>\n",
       "      <td>0.600</td>\n",
       "      <td>0.666667</td>\n",
       "      <td>253575300</td>\n",
       "      <td>923000000</td>\n",
       "      <td>0.344444</td>\n",
       "      <td>17.82</td>\n",
       "      <td>18526.0</td>\n",
       "      <td>6340.0</td>\n",
       "      <td>8.54</td>\n",
       "      <td>12186.0</td>\n",
       "      <td>27.11</td>\n",
       "    </tr>\n",
       "    <tr>\n",
       "      <th>5315</th>\n",
       "      <td>2023-07-10</td>\n",
       "      <td>SKYWLD</td>\n",
       "      <td>SKYWORLD DEVELOPMENT BERHAD</td>\n",
       "      <td>0.800</td>\n",
       "      <td>0.740</td>\n",
       "      <td>-0.060</td>\n",
       "      <td>-0.075000</td>\n",
       "      <td>110509500</td>\n",
       "      <td>1000000000</td>\n",
       "      <td>-0.093750</td>\n",
       "      <td>0.19</td>\n",
       "      <td>3378.0</td>\n",
       "      <td>1644.0</td>\n",
       "      <td>0.23</td>\n",
       "      <td>1734.0</td>\n",
       "      <td>0.15</td>\n",
       "    </tr>\n",
       "    <tr>\n",
       "      <th>5318</th>\n",
       "      <td>2023-05-19</td>\n",
       "      <td>DXN</td>\n",
       "      <td>DXN HOLDINGS BHD.</td>\n",
       "      <td>0.690</td>\n",
       "      <td>0.665</td>\n",
       "      <td>-0.035</td>\n",
       "      <td>-0.050000</td>\n",
       "      <td>216411200</td>\n",
       "      <td>4985000000</td>\n",
       "      <td>-0.071429</td>\n",
       "      <td>3.20</td>\n",
       "      <td>12146.0</td>\n",
       "      <td>4765.0</td>\n",
       "      <td>0.86</td>\n",
       "      <td>7381.0</td>\n",
       "      <td>5.54</td>\n",
       "    </tr>\n",
       "    <tr>\n",
       "      <th>6633</th>\n",
       "      <td>2019-05-16</td>\n",
       "      <td>LHI</td>\n",
       "      <td>LEONG HUP INTERNATIONAL BERHAD</td>\n",
       "      <td>1.120</td>\n",
       "      <td>1.100</td>\n",
       "      <td>0.000</td>\n",
       "      <td>0.000000</td>\n",
       "      <td>215399100</td>\n",
       "      <td>3650000000</td>\n",
       "      <td>-0.027273</td>\n",
       "      <td>3.64</td>\n",
       "      <td>14841.0</td>\n",
       "      <td>2330.0</td>\n",
       "      <td>0.39</td>\n",
       "      <td>12511.0</td>\n",
       "      <td>6.90</td>\n",
       "    </tr>\n",
       "  </tbody>\n",
       "</table>\n",
       "<p>120 rows × 16 columns</p>\n",
       "</div>"
      ],
      "text/plain": [
       "           Date    Stock                   StockLongName   Open  Close  \\\n",
       "Code                                                                     \n",
       "247  2022-06-14  UNITRAD      UNITRADE INDUSTRIES BERHAD  0.265  0.300   \n",
       "201  2018-07-20     NOVA      NOVA WELLNESS GROUP BERHAD  0.650  0.760   \n",
       "213  2019-09-25     MTAG               MTAG GROUP BERHAD  0.700  0.440   \n",
       "189  2017-01-17   MATANG                   MATANG BERHAD  0.140  0.140   \n",
       "202  2018-07-24   RGTECH       RADIANT GLOBALTECH BERHAD  0.500  0.530   \n",
       "...         ...      ...                             ...    ...    ...   \n",
       "5310 2023-01-17  KITACON         KUMPULAN KITACON BERHAD  0.990  0.750   \n",
       "5311 2023-03-10      CEB                 CAPE EMS BERHAD  1.420  1.500   \n",
       "5315 2023-07-10   SKYWLD     SKYWORLD DEVELOPMENT BERHAD  0.800  0.740   \n",
       "5318 2023-05-19      DXN               DXN HOLDINGS BHD.  0.690  0.665   \n",
       "6633 2019-05-16      LHI  LEONG HUP INTERNATIONAL BERHAD  1.120  1.100   \n",
       "\n",
       "      PriceChange1  PctChange1     Volume   NumShares   20d_ret  \\\n",
       "Code                                                              \n",
       "247         -0.020   -0.062500  246856800  1562500000 -0.203125   \n",
       "201          0.210    0.381818   87920400   317743815  0.090909   \n",
       "213         -0.090   -0.169811  288058800   681617400 -0.037736   \n",
       "189          0.010    0.076923  303914800  1810000256  0.038462   \n",
       "202          0.300    1.304348  179567100   525200000  0.543478   \n",
       "...            ...         ...        ...         ...       ...   \n",
       "5310         0.070    0.102941  156697400   500000000 -0.029412   \n",
       "5311         0.600    0.666667  253575300   923000000  0.344444   \n",
       "5315        -0.060   -0.075000  110509500  1000000000 -0.093750   \n",
       "5318        -0.035   -0.050000  216411200  4985000000 -0.071429   \n",
       "6633         0.000    0.000000  215399100  3650000000 -0.027273   \n",
       "\n",
       "      Oversubscription_Rate  Total_Applicants  Bumiputera_Applicants  \\\n",
       "Code                                                                   \n",
       "247                    2.35            7169.0                    NaN   \n",
       "201                    2.84            2200.0                  824.0   \n",
       "213                    3.84            3518.0                 1639.0   \n",
       "189                    4.21            6389.0                 3046.0   \n",
       "202                    6.73            2193.0                    NaN   \n",
       "...                     ...               ...                    ...   \n",
       "5310                  11.46            6876.0                 4005.0   \n",
       "5311                  17.82           18526.0                 6340.0   \n",
       "5315                   0.19            3378.0                 1644.0   \n",
       "5318                   3.20           12146.0                 4765.0   \n",
       "6633                   3.64           14841.0                 2330.0   \n",
       "\n",
       "      Bumiputera_Oversubscription_Rate  Public_Applicants  \\\n",
       "Code                                                        \n",
       "247                                NaN                NaN   \n",
       "201                               1.62             1376.0   \n",
       "213                               1.80             1879.0   \n",
       "189                               3.10             3343.0   \n",
       "202                                NaN                NaN   \n",
       "...                                ...                ...   \n",
       "5310                             11.33             2871.0   \n",
       "5311                              8.54            12186.0   \n",
       "5315                              0.23             1734.0   \n",
       "5318                              0.86             7381.0   \n",
       "6633                              0.39            12511.0   \n",
       "\n",
       "      Public_Oversubscription_Rate  \n",
       "Code                                \n",
       "247                            NaN  \n",
       "201                           4.05  \n",
       "213                           5.88  \n",
       "189                           5.31  \n",
       "202                            NaN  \n",
       "...                            ...  \n",
       "5310                         11.59  \n",
       "5311                         27.11  \n",
       "5315                          0.15  \n",
       "5318                          5.54  \n",
       "6633                          6.90  \n",
       "\n",
       "[120 rows x 16 columns]"
      ]
     },
     "execution_count": 99,
     "metadata": {},
     "output_type": "execute_result"
    }
   ],
   "source": [
    "df"
   ]
  },
  {
   "cell_type": "code",
   "execution_count": 108,
   "id": "b08a51a3-0dcf-4e60-a557-9739f556de53",
   "metadata": {},
   "outputs": [
    {
     "data": {
      "text/plain": [
       "(array([7.04410376e-03, 6.16986583e-06]), -0.05421068056374869)"
      ]
     },
     "execution_count": 108,
     "metadata": {},
     "output_type": "execute_result"
    }
   ],
   "source": []
  },
  {
   "cell_type": "code",
   "execution_count": 109,
   "id": "346f0ce7-34b1-44ec-8a9b-583a5b9efe5e",
   "metadata": {},
   "outputs": [
    {
     "name": "stderr",
     "output_type": "stream",
     "text": [
      "C:\\Users\\BLOOMBERG\\anaconda3\\lib\\site-packages\\sklearn\\base.py:450: UserWarning: X does not have valid feature names, but HuberRegressor was fitted with feature names\n",
      "  warnings.warn(\n"
     ]
    },
    {
     "data": {
      "text/plain": [
       "array([-0.00095765])"
      ]
     },
     "execution_count": 109,
     "metadata": {},
     "output_type": "execute_result"
    }
   ],
   "source": []
  },
  {
   "cell_type": "code",
   "execution_count": null,
   "id": "e72bccb1-0519-4ba1-be54-9cb9f2c74dab",
   "metadata": {},
   "outputs": [],
   "source": []
  },
  {
   "cell_type": "code",
   "execution_count": null,
   "id": "c49bffa1-efbb-4b9c-9f36-00c17fe105c5",
   "metadata": {},
   "outputs": [],
   "source": []
  },
  {
   "cell_type": "code",
   "execution_count": 107,
   "id": "deecc3de-e874-449e-87e2-77ff2ece8e58",
   "metadata": {},
   "outputs": [],
   "source": [
    "# df['Oversubscription_Rate'].unique()"
   ]
  },
  {
   "cell_type": "code",
   "execution_count": null,
   "id": "72f25534-e73a-4096-a67f-f857deb24144",
   "metadata": {},
   "outputs": [],
   "source": []
  }
 ],
 "metadata": {
  "kernelspec": {
   "display_name": "Python 3 (ipykernel)",
   "language": "python",
   "name": "python3"
  },
  "language_info": {
   "codemirror_mode": {
    "name": "ipython",
    "version": 3
   },
   "file_extension": ".py",
   "mimetype": "text/x-python",
   "name": "python",
   "nbconvert_exporter": "python",
   "pygments_lexer": "ipython3",
   "version": "3.10.9"
  }
 },
 "nbformat": 4,
 "nbformat_minor": 5
}
